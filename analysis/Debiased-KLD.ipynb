{
 "cells": [
  {
   "cell_type": "code",
   "execution_count": 6,
   "metadata": {},
   "outputs": [
    {
     "name": "stderr",
     "output_type": "stream",
     "text": [
      "WARNING: replacing module Polya.\n"
     ]
    }
   ],
   "source": [
    "using Distributions\n",
    "using Random\n",
    "using DataFrames\n",
    "using CSVFiles\n",
    "include(\"./polya.jl\")\n",
    "using .Polya"
   ]
  },
  {
   "cell_type": "code",
   "execution_count": 2,
   "metadata": {},
   "outputs": [
    {
     "data": {
      "text/plain": [
       "compute_KLD (generic function with 1 method)"
      ]
     },
     "execution_count": 2,
     "metadata": {},
     "output_type": "execute_result"
    }
   ],
   "source": [
    "function compute_KLD(share::Array{Float64,N}, p::Vector{Float64}) where {N}\n",
    "    all(sum(share, dims=1) .≈ 1) || throw(ArgumentError(\"Shares have to sum to 1.\")) \n",
    "    deviation = log.(share ./ p)\n",
    "    # log(0) is fine because 0*log(0) = 0\n",
    "    replace!(deviation, -Inf=>0)\n",
    "    # convert to vector instead of 1xK array\n",
    "    return sum(share .* deviation, dims=1)\n",
    "end"
   ]
  },
  {
   "cell_type": "code",
   "execution_count": 19,
   "metadata": {},
   "outputs": [
    {
     "data": {
      "text/plain": [
       "compute_p_values (generic function with 1 method)"
      ]
     },
     "execution_count": 19,
     "metadata": {},
     "output_type": "execute_result"
    }
   ],
   "source": [
    "function compute_p_values(A)\n",
    "    # exclude zero rows\n",
    "    data = A[vec(maximum(A, dims=2) .> 0), :]\n",
    "\n",
    "    K, N = size(data)\n",
    "    H0_params = Polya.mle(DirichletMultinomial, data, tol=1e-4)\n",
    "    H0_shares = H0_params.α ./ sum(H0_params.α)\n",
    "    actual_KLD = compute_KLD(data ./ sum(data, dims=1), H0_shares)\n",
    "    \n",
    "    p = zeros(Float64, N)\n",
    "    for i = 1:N\n",
    "        # actual number of shipments treated as a parameter\n",
    "        H1 = DirichletMultinomial(sum(data[:,i]), H0_params.α)\n",
    "        pmf = Polya.simulate_ECDF(H1, \n",
    "            x -> compute_KLD(x ./ sum(x, dims=1), \n",
    "                    H0_params.α ./ H0_params.α0), \n",
    "            maxiter=10000, digits=3)\n",
    "        p[i] = 1 - cdf(pmf, actual_KLD[1,i])\n",
    "    end\n",
    "    return p\n",
    "end"
   ]
  },
  {
   "cell_type": "code",
   "execution_count": 7,
   "metadata": {},
   "outputs": [
    {
     "data": {
      "text/plain": [
       "\"So as not to make notebook big.\""
      ]
     },
     "execution_count": 7,
     "metadata": {},
     "output_type": "execute_result"
    }
   ],
   "source": [
    "data = DataFrame(load(\"../temp/shipment-clean.csv\"))\n",
    "\"So as not to make notebook big.\""
   ]
  },
  {
   "cell_type": "code",
   "execution_count": 8,
   "metadata": {},
   "outputs": [
    {
     "data": {
      "text/plain": [
       "get_destination_matrix (generic function with 1 method)"
      ]
     },
     "execution_count": 8,
     "metadata": {},
     "output_type": "execute_result"
    }
   ],
   "source": [
    "function get_destination_matrix(data; country::String, year::Int = 2017)\n",
    "    return filter(row -> row.iso2_d == country && row.year == year, data)[:,4:end-1]\n",
    "end"
   ]
  },
  {
   "cell_type": "code",
   "execution_count": 9,
   "metadata": {},
   "outputs": [
    {
     "data": {
      "text/plain": [
       "flip (generic function with 1 method)"
      ]
     },
     "execution_count": 9,
     "metadata": {},
     "output_type": "execute_result"
    }
   ],
   "source": [
    "function flip(df::DataFrame) :: Array\n",
    "    return Array(Array(df)')\n",
    "end"
   ]
  },
  {
   "cell_type": "code",
   "execution_count": 20,
   "metadata": {},
   "outputs": [
    {
     "name": "stdout",
     "output_type": "stream",
     "text": [
      "ME2016\n",
      "ME2017\n",
      "MK2016\n",
      "MK2017\n",
      "AL2016\n",
      "AL2017\n",
      "TR2016\n",
      "TR2017\n",
      "BA2016\n",
      "BA2017\n",
      "AM2016\n",
      "AM2017\n",
      "AZ2016\n",
      "AZ2017\n",
      "BY2016\n",
      "BY2017\n",
      "MD2016\n",
      "MD2017\n",
      "GE2016\n",
      "GE2017\n",
      "UA2016\n",
      "UA2017\n",
      "DZ2016\n",
      "DZ2017\n",
      "EG2016\n",
      "EG2017\n",
      "IL2016\n",
      "IL2017\n",
      "JO2016\n",
      "JO2017\n",
      "LB2016\n",
      "LB2017\n",
      "LY2016\n",
      "LY2017\n",
      "MA2016\n",
      "MA2017\n",
      "PS2016\n",
      "PS2017\n",
      "SY2016\n",
      "SY2017\n",
      "TN2016\n",
      "TN2017\n",
      "RU2016\n",
      "RU2017\n"
     ]
    }
   ],
   "source": [
    "#destinations = unique(data.iso2_d)\n",
    "#years = unique(data.year)\n",
    "destinations = [\"ME\", \"MK\", \"AL\", \"TR\", \"BA\", \"AM\", \"AZ\", \"BY\", \"MD\", \"GE\", \"UA\", \"DZ\", \"EG\", \"IL\", \"JO\", \"LB\", \"LY\", \"MA\", \"PS\", \"SY\", \"TN\", \"RU\"]\n",
    "years = [2016, 2017]\n",
    "ps = copy(data[1:0,1:3])\n",
    "ps.p = zeros(Float64, size(ps, 1))\n",
    "for d in destinations\n",
    "    for t in years \n",
    "        println(d, t)\n",
    "        subset = get_destination_matrix(data, country=d, year=t)\n",
    "        p = compute_p_values(flip(subset))\n",
    "        new_batch = filter(row -> row.iso2_d == d && row.year == t, data)[:,1:3]\n",
    "        new_batch[:,:p] = p\n",
    "        append!(ps, new_batch)\n",
    "    end\n",
    "end\n"
   ]
  },
  {
   "cell_type": "code",
   "execution_count": 17,
   "metadata": {},
   "outputs": [
    {
     "data": {
      "text/html": [
       "<table class=\"data-frame\"><thead><tr><th></th><th>iso2_o</th><th>iso2_d</th><th>year</th><th>p</th></tr><tr><th></th><th>String</th><th>String</th><th>Int64</th><th>Float64</th></tr></thead><tbody><p>615 rows × 4 columns</p><tr><th>1</th><td>AT</td><td>ME</td><td>2017</td><td>0.977978</td></tr><tr><th>2</th><td>BE</td><td>ME</td><td>2017</td><td>0.0</td></tr><tr><th>3</th><td>BG</td><td>ME</td><td>2017</td><td>0.141141</td></tr><tr><th>4</th><td>CY</td><td>ME</td><td>2017</td><td>0.035035</td></tr><tr><th>5</th><td>CZ</td><td>ME</td><td>2017</td><td>0.0</td></tr><tr><th>6</th><td>DE</td><td>ME</td><td>2017</td><td>0.94995</td></tr><tr><th>7</th><td>DK</td><td>ME</td><td>2017</td><td>0.998999</td></tr><tr><th>8</th><td>EE</td><td>ME</td><td>2017</td><td>0.676677</td></tr><tr><th>9</th><td>ES</td><td>ME</td><td>2017</td><td>0.002002</td></tr><tr><th>10</th><td>FI</td><td>ME</td><td>2017</td><td>0.00600601</td></tr><tr><th>11</th><td>FR</td><td>ME</td><td>2017</td><td>0.118118</td></tr><tr><th>12</th><td>GB</td><td>ME</td><td>2017</td><td>7.77156e-16</td></tr><tr><th>13</th><td>GR</td><td>ME</td><td>2017</td><td>0.0</td></tr><tr><th>14</th><td>HR</td><td>ME</td><td>2017</td><td>0.0950951</td></tr><tr><th>15</th><td>HU</td><td>ME</td><td>2017</td><td>3.33067e-16</td></tr><tr><th>16</th><td>IE</td><td>ME</td><td>2017</td><td>0.0</td></tr><tr><th>17</th><td>IT</td><td>ME</td><td>2017</td><td>1.0</td></tr><tr><th>18</th><td>LT</td><td>ME</td><td>2017</td><td>0.0</td></tr><tr><th>19</th><td>LU</td><td>ME</td><td>2017</td><td>0.00800801</td></tr><tr><th>20</th><td>LV</td><td>ME</td><td>2017</td><td>0.035035</td></tr><tr><th>21</th><td>MT</td><td>ME</td><td>2017</td><td>0.0</td></tr><tr><th>22</th><td>NL</td><td>ME</td><td>2017</td><td>0.002002</td></tr><tr><th>23</th><td>PL</td><td>ME</td><td>2017</td><td>0.0</td></tr><tr><th>24</th><td>PT</td><td>ME</td><td>2017</td><td>0.00600601</td></tr><tr><th>25</th><td>RO</td><td>ME</td><td>2017</td><td>0.049049</td></tr><tr><th>26</th><td>SE</td><td>ME</td><td>2017</td><td>0.001001</td></tr><tr><th>27</th><td>SI</td><td>ME</td><td>2017</td><td>1.0</td></tr><tr><th>28</th><td>SK</td><td>ME</td><td>2017</td><td>0.023023</td></tr><tr><th>29</th><td>AT</td><td>MK</td><td>2017</td><td>0.998999</td></tr><tr><th>30</th><td>BE</td><td>MK</td><td>2017</td><td>0.0</td></tr><tr><th>&vellip;</th><td>&vellip;</td><td>&vellip;</td><td>&vellip;</td><td>&vellip;</td></tr></tbody></table>"
      ],
      "text/latex": [
       "\\begin{tabular}{r|cccc}\n",
       "\t& iso2\\_o & iso2\\_d & year & p\\\\\n",
       "\t\\hline\n",
       "\t& String & String & Int64 & Float64\\\\\n",
       "\t\\hline\n",
       "\t1 & AT & ME & 2017 & 0.977978 \\\\\n",
       "\t2 & BE & ME & 2017 & 0.0 \\\\\n",
       "\t3 & BG & ME & 2017 & 0.141141 \\\\\n",
       "\t4 & CY & ME & 2017 & 0.035035 \\\\\n",
       "\t5 & CZ & ME & 2017 & 0.0 \\\\\n",
       "\t6 & DE & ME & 2017 & 0.94995 \\\\\n",
       "\t7 & DK & ME & 2017 & 0.998999 \\\\\n",
       "\t8 & EE & ME & 2017 & 0.676677 \\\\\n",
       "\t9 & ES & ME & 2017 & 0.002002 \\\\\n",
       "\t10 & FI & ME & 2017 & 0.00600601 \\\\\n",
       "\t11 & FR & ME & 2017 & 0.118118 \\\\\n",
       "\t12 & GB & ME & 2017 & 7.77156e-16 \\\\\n",
       "\t13 & GR & ME & 2017 & 0.0 \\\\\n",
       "\t14 & HR & ME & 2017 & 0.0950951 \\\\\n",
       "\t15 & HU & ME & 2017 & 3.33067e-16 \\\\\n",
       "\t16 & IE & ME & 2017 & 0.0 \\\\\n",
       "\t17 & IT & ME & 2017 & 1.0 \\\\\n",
       "\t18 & LT & ME & 2017 & 0.0 \\\\\n",
       "\t19 & LU & ME & 2017 & 0.00800801 \\\\\n",
       "\t20 & LV & ME & 2017 & 0.035035 \\\\\n",
       "\t21 & MT & ME & 2017 & 0.0 \\\\\n",
       "\t22 & NL & ME & 2017 & 0.002002 \\\\\n",
       "\t23 & PL & ME & 2017 & 0.0 \\\\\n",
       "\t24 & PT & ME & 2017 & 0.00600601 \\\\\n",
       "\t25 & RO & ME & 2017 & 0.049049 \\\\\n",
       "\t26 & SE & ME & 2017 & 0.001001 \\\\\n",
       "\t27 & SI & ME & 2017 & 1.0 \\\\\n",
       "\t28 & SK & ME & 2017 & 0.023023 \\\\\n",
       "\t29 & AT & MK & 2017 & 0.998999 \\\\\n",
       "\t30 & BE & MK & 2017 & 0.0 \\\\\n",
       "\t$\\dots$ & $\\dots$ & $\\dots$ & $\\dots$ & $\\dots$ \\\\\n",
       "\\end{tabular}\n"
      ],
      "text/plain": [
       "\u001b[1m615×4 DataFrame\u001b[0m\n",
       "\u001b[1m Row \u001b[0m│\u001b[1m iso2_o \u001b[0m\u001b[1m iso2_d \u001b[0m\u001b[1m year  \u001b[0m\u001b[1m p           \u001b[0m\n",
       "\u001b[1m     \u001b[0m│\u001b[90m String \u001b[0m\u001b[90m String \u001b[0m\u001b[90m Int64 \u001b[0m\u001b[90m Float64     \u001b[0m\n",
       "─────┼────────────────────────────────────\n",
       "   1 │ AT      ME       2017  0.977978\n",
       "   2 │ BE      ME       2017  0.0\n",
       "   3 │ BG      ME       2017  0.141141\n",
       "   4 │ CY      ME       2017  0.035035\n",
       "   5 │ CZ      ME       2017  0.0\n",
       "   6 │ DE      ME       2017  0.94995\n",
       "   7 │ DK      ME       2017  0.998999\n",
       "   8 │ EE      ME       2017  0.676677\n",
       "   9 │ ES      ME       2017  0.002002\n",
       "  10 │ FI      ME       2017  0.00600601\n",
       "  11 │ FR      ME       2017  0.118118\n",
       "  ⋮  │   ⋮       ⋮       ⋮         ⋮\n",
       " 606 │ LU      RU       2017  0.0\n",
       " 607 │ LV      RU       2017  0.024024\n",
       " 608 │ MT      RU       2017  0.0\n",
       " 609 │ NL      RU       2017  0.770771\n",
       " 610 │ PL      RU       2017  1.0\n",
       " 611 │ PT      RU       2017  0.029029\n",
       " 612 │ RO      RU       2017  0.764765\n",
       " 613 │ SE      RU       2017  0.971972\n",
       " 614 │ SI      RU       2017  1.11022e-16\n",
       " 615 │ SK      RU       2017  0.201201\n",
       "\u001b[31m                          594 rows omitted\u001b[0m"
      ]
     },
     "execution_count": 17,
     "metadata": {},
     "output_type": "execute_result"
    }
   ],
   "source": [
    "ps"
   ]
  },
  {
   "cell_type": "code",
   "execution_count": 21,
   "metadata": {},
   "outputs": [],
   "source": [
    "save(\"../temp/p-values.csv\", ps)"
   ]
  },
  {
   "cell_type": "code",
   "execution_count": null,
   "metadata": {},
   "outputs": [],
   "source": []
  }
 ],
 "metadata": {
  "kernelspec": {
   "display_name": "Julia 1.4.2",
   "language": "julia",
   "name": "julia-1.4"
  },
  "language_info": {
   "file_extension": ".jl",
   "mimetype": "application/julia",
   "name": "julia",
   "version": "1.4.2"
  }
 },
 "nbformat": 4,
 "nbformat_minor": 4
}

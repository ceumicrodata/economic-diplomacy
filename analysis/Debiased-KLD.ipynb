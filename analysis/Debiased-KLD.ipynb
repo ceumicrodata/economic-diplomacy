{
 "cells": [
  {
   "cell_type": "code",
   "execution_count": 6,
   "metadata": {},
   "outputs": [
    {
     "name": "stderr",
     "output_type": "stream",
     "text": [
      "WARNING: replacing module Polya.\n"
     ]
    }
   ],
   "source": [
    "using Distributions\n",
    "using Random\n",
    "using DataFrames\n",
    "using CSVFiles\n",
    "include(\"./polya.jl\")\n",
    "using .Polya"
   ]
  },
  {
   "cell_type": "code",
   "execution_count": 2,
   "metadata": {},
   "outputs": [
    {
     "data": {
      "text/plain": [
       "compute_KLD (generic function with 1 method)"
      ]
     },
     "execution_count": 2,
     "metadata": {},
     "output_type": "execute_result"
    }
   ],
   "source": [
    "function compute_KLD(share::Array{Float64,N}, p::Vector{Float64}) where {N}\n",
    "    all(sum(share, dims=1) .≈ 1) || throw(ArgumentError(\"Shares have to sum to 1.\")) \n",
    "    deviation = log.(share ./ p)\n",
    "    # log(0) is fine because 0*log(0) = 0\n",
    "    replace!(deviation, -Inf=>0)\n",
    "    # convert to vector instead of 1xK array\n",
    "    return sum(share .* deviation, dims=1)\n",
    "end"
   ]
  },
  {
   "cell_type": "code",
   "execution_count": 3,
   "metadata": {},
   "outputs": [
    {
     "data": {
      "text/plain": [
       "compute_p_values (generic function with 1 method)"
      ]
     },
     "execution_count": 3,
     "metadata": {},
     "output_type": "execute_result"
    }
   ],
   "source": [
    "function compute_p_values(A)\n",
    "    # exclude zero rows\n",
    "    data = A[vec(maximum(A, dims=2) .> 0), :]\n",
    "\n",
    "    K, N = size(data)\n",
    "    H0_params = Polya.mle(DirichletMultinomial, data, tol=1e-4)\n",
    "    H0_shares = H0_params.α ./ sum(H0_params.α)\n",
    "    actual_KLD = compute_KLD(data ./ sum(data, dims=1), H0_shares)\n",
    "    \n",
    "    p = zeros(Float64, N)\n",
    "    for i = 1:N\n",
    "        # actual number of shipments treated as a parameter\n",
    "        H1 = DirichletMultinomial(sum(data[:,i]), H0_params.α)\n",
    "        pmf = Polya.simulate_ECDF(H1, \n",
    "            x -> compute_KLD(x ./ sum(x, dims=1), \n",
    "                    H0_params.α ./ H0_params.α0), \n",
    "            maxiter=1000, digits=2)\n",
    "        p[i] = 1 - cdf(pmf, actual_KLD[1,i])\n",
    "    end\n",
    "    return p\n",
    "end"
   ]
  },
  {
   "cell_type": "code",
   "execution_count": 7,
   "metadata": {},
   "outputs": [
    {
     "data": {
      "text/plain": [
       "\"So as not to make notebook big.\""
      ]
     },
     "execution_count": 7,
     "metadata": {},
     "output_type": "execute_result"
    }
   ],
   "source": [
    "data = DataFrame(load(\"../temp/shipment-clean.csv\"))\n",
    "\"So as not to make notebook big.\""
   ]
  },
  {
   "cell_type": "code",
   "execution_count": 8,
   "metadata": {},
   "outputs": [
    {
     "data": {
      "text/plain": [
       "get_destination_matrix (generic function with 1 method)"
      ]
     },
     "execution_count": 8,
     "metadata": {},
     "output_type": "execute_result"
    }
   ],
   "source": [
    "function get_destination_matrix(data; country::String, year::Int = 2017)\n",
    "    return filter(row -> row.iso2_d == country && row.year == year, data)[:,4:end-1]\n",
    "end"
   ]
  },
  {
   "cell_type": "code",
   "execution_count": 9,
   "metadata": {},
   "outputs": [
    {
     "data": {
      "text/plain": [
       "flip (generic function with 1 method)"
      ]
     },
     "execution_count": 9,
     "metadata": {},
     "output_type": "execute_result"
    }
   ],
   "source": [
    "function flip(df::DataFrame) :: Array\n",
    "    return Array(Array(df)')\n",
    "end"
   ]
  },
  {
   "cell_type": "code",
   "execution_count": null,
   "metadata": {},
   "outputs": [
    {
     "name": "stdout",
     "output_type": "stream",
     "text": [
      "ME2017\n",
      "MK2017\n",
      "AL2017\n",
      "TR2017\n",
      "BA2017\n",
      "AM2017\n",
      "AZ2017\n",
      "BY2017\n",
      "MD2017\n",
      "GE2017\n",
      "UA2017\n",
      "DZ2017\n",
      "EG2017\n",
      "IL2017\n",
      "JO2017\n",
      "LB2017\n",
      "LY2017\n",
      "MA2017\n",
      "PS2017\n",
      "SY2017\n",
      "TN2017\n",
      "RU"
     ]
    }
   ],
   "source": [
    "#destinations = unique(data.iso2_d)\n",
    "#years = unique(data.year)\n",
    "destinations = [\"ME\", \"MK\", \"AL\", \"TR\", \"BA\", \"AM\", \"AZ\", \"BY\", \"MD\", \"GE\", \"UA\", \"DZ\", \"EG\", \"IL\", \"JO\", \"LB\", \"LY\", \"MA\", \"PS\", \"SY\", \"TN\", \"RU\", \"UK\"]\n",
    "years = [2017]\n",
    "ps = copy(data[1:0,1:3])\n",
    "ps.p = zeros(Float64, size(ps, 1))\n",
    "for d in destinations\n",
    "    for t in years \n",
    "        println(d, t)\n",
    "        subset = get_destination_matrix(data, country=d, year=t)\n",
    "        p = compute_p_values(flip(subset))\n",
    "        new_batch = filter(row -> row.iso2_d == d && row.year == t, data)[:,1:3]\n",
    "        new_batch[:,:p] = p\n",
    "        append!(ps, new_batch)\n",
    "    end\n",
    "end\n"
   ]
  },
  {
   "cell_type": "code",
   "execution_count": 13,
   "metadata": {},
   "outputs": [
    {
     "data": {
      "text/html": [
       "<table class=\"data-frame\"><thead><tr><th></th><th>iso2_o</th><th>iso2_d</th><th>year</th><th>p</th></tr><tr><th></th><th>String</th><th>String</th><th>Int64</th><th>Float64</th></tr></thead><tbody><p>84 rows × 4 columns</p><tr><th>1</th><td>AT</td><td>RU</td><td>2017</td><td>0.026026</td></tr><tr><th>2</th><td>BE</td><td>RU</td><td>2017</td><td>0.0</td></tr><tr><th>3</th><td>BG</td><td>RU</td><td>2017</td><td>0.162162</td></tr><tr><th>4</th><td>CY</td><td>RU</td><td>2017</td><td>0.0</td></tr><tr><th>5</th><td>CZ</td><td>RU</td><td>2017</td><td>0.551552</td></tr><tr><th>6</th><td>DE</td><td>RU</td><td>2017</td><td>1.0</td></tr><tr><th>7</th><td>DK</td><td>RU</td><td>2017</td><td>0.201201</td></tr><tr><th>8</th><td>EE</td><td>RU</td><td>2017</td><td>0.964965</td></tr><tr><th>9</th><td>ES</td><td>RU</td><td>2017</td><td>0.993994</td></tr><tr><th>10</th><td>FI</td><td>RU</td><td>2017</td><td>0.586587</td></tr><tr><th>11</th><td>FR</td><td>RU</td><td>2017</td><td>0.970971</td></tr><tr><th>12</th><td>GB</td><td>RU</td><td>2017</td><td>0.004004</td></tr><tr><th>13</th><td>GR</td><td>RU</td><td>2017</td><td>3.33067e-16</td></tr><tr><th>14</th><td>HR</td><td>RU</td><td>2017</td><td>0.01001</td></tr><tr><th>15</th><td>HU</td><td>RU</td><td>2017</td><td>0.714715</td></tr><tr><th>16</th><td>IE</td><td>RU</td><td>2017</td><td>0.0</td></tr><tr><th>17</th><td>IT</td><td>RU</td><td>2017</td><td>0.998999</td></tr><tr><th>18</th><td>LT</td><td>RU</td><td>2017</td><td>1.0</td></tr><tr><th>19</th><td>LU</td><td>RU</td><td>2017</td><td>0.0</td></tr><tr><th>20</th><td>LV</td><td>RU</td><td>2017</td><td>0.031031</td></tr><tr><th>21</th><td>MT</td><td>RU</td><td>2017</td><td>0.0</td></tr><tr><th>22</th><td>NL</td><td>RU</td><td>2017</td><td>0.781782</td></tr><tr><th>23</th><td>PL</td><td>RU</td><td>2017</td><td>1.0</td></tr><tr><th>24</th><td>PT</td><td>RU</td><td>2017</td><td>0.013013</td></tr><tr><th>25</th><td>RO</td><td>RU</td><td>2017</td><td>0.768769</td></tr><tr><th>26</th><td>SE</td><td>RU</td><td>2017</td><td>0.966967</td></tr><tr><th>27</th><td>SI</td><td>RU</td><td>2017</td><td>0.001001</td></tr><tr><th>28</th><td>SK</td><td>RU</td><td>2017</td><td>0.189189</td></tr><tr><th>29</th><td>AT</td><td>US</td><td>2017</td><td>0.49049</td></tr><tr><th>30</th><td>BE</td><td>US</td><td>2017</td><td>1.11022e-16</td></tr><tr><th>&vellip;</th><td>&vellip;</td><td>&vellip;</td><td>&vellip;</td><td>&vellip;</td></tr></tbody></table>"
      ],
      "text/latex": [
       "\\begin{tabular}{r|cccc}\n",
       "\t& iso2\\_o & iso2\\_d & year & p\\\\\n",
       "\t\\hline\n",
       "\t& String & String & Int64 & Float64\\\\\n",
       "\t\\hline\n",
       "\t1 & AT & RU & 2017 & 0.026026 \\\\\n",
       "\t2 & BE & RU & 2017 & 0.0 \\\\\n",
       "\t3 & BG & RU & 2017 & 0.162162 \\\\\n",
       "\t4 & CY & RU & 2017 & 0.0 \\\\\n",
       "\t5 & CZ & RU & 2017 & 0.551552 \\\\\n",
       "\t6 & DE & RU & 2017 & 1.0 \\\\\n",
       "\t7 & DK & RU & 2017 & 0.201201 \\\\\n",
       "\t8 & EE & RU & 2017 & 0.964965 \\\\\n",
       "\t9 & ES & RU & 2017 & 0.993994 \\\\\n",
       "\t10 & FI & RU & 2017 & 0.586587 \\\\\n",
       "\t11 & FR & RU & 2017 & 0.970971 \\\\\n",
       "\t12 & GB & RU & 2017 & 0.004004 \\\\\n",
       "\t13 & GR & RU & 2017 & 3.33067e-16 \\\\\n",
       "\t14 & HR & RU & 2017 & 0.01001 \\\\\n",
       "\t15 & HU & RU & 2017 & 0.714715 \\\\\n",
       "\t16 & IE & RU & 2017 & 0.0 \\\\\n",
       "\t17 & IT & RU & 2017 & 0.998999 \\\\\n",
       "\t18 & LT & RU & 2017 & 1.0 \\\\\n",
       "\t19 & LU & RU & 2017 & 0.0 \\\\\n",
       "\t20 & LV & RU & 2017 & 0.031031 \\\\\n",
       "\t21 & MT & RU & 2017 & 0.0 \\\\\n",
       "\t22 & NL & RU & 2017 & 0.781782 \\\\\n",
       "\t23 & PL & RU & 2017 & 1.0 \\\\\n",
       "\t24 & PT & RU & 2017 & 0.013013 \\\\\n",
       "\t25 & RO & RU & 2017 & 0.768769 \\\\\n",
       "\t26 & SE & RU & 2017 & 0.966967 \\\\\n",
       "\t27 & SI & RU & 2017 & 0.001001 \\\\\n",
       "\t28 & SK & RU & 2017 & 0.189189 \\\\\n",
       "\t29 & AT & US & 2017 & 0.49049 \\\\\n",
       "\t30 & BE & US & 2017 & 1.11022e-16 \\\\\n",
       "\t$\\dots$ & $\\dots$ & $\\dots$ & $\\dots$ & $\\dots$ \\\\\n",
       "\\end{tabular}\n"
      ],
      "text/plain": [
       "\u001b[1m84×4 DataFrame\u001b[0m\n",
       "\u001b[1m Row \u001b[0m│\u001b[1m iso2_o \u001b[0m\u001b[1m iso2_d \u001b[0m\u001b[1m year  \u001b[0m\u001b[1m p           \u001b[0m\n",
       "\u001b[1m     \u001b[0m│\u001b[90m String \u001b[0m\u001b[90m String \u001b[0m\u001b[90m Int64 \u001b[0m\u001b[90m Float64     \u001b[0m\n",
       "─────┼────────────────────────────────────\n",
       "   1 │ AT      RU       2017  0.026026\n",
       "   2 │ BE      RU       2017  0.0\n",
       "   3 │ BG      RU       2017  0.162162\n",
       "   4 │ CY      RU       2017  0.0\n",
       "   5 │ CZ      RU       2017  0.551552\n",
       "   6 │ DE      RU       2017  1.0\n",
       "   7 │ DK      RU       2017  0.201201\n",
       "   8 │ EE      RU       2017  0.964965\n",
       "   9 │ ES      RU       2017  0.993994\n",
       "  10 │ FI      RU       2017  0.586587\n",
       "  11 │ FR      RU       2017  0.970971\n",
       "  ⋮  │   ⋮       ⋮       ⋮         ⋮\n",
       "  75 │ LU      JP       2017  0.0\n",
       "  76 │ LV      JP       2017  0.0\n",
       "  77 │ MT      JP       2017  0.0\n",
       "  78 │ NL      JP       2017  0.992993\n",
       "  79 │ PL      JP       2017  1.0\n",
       "  80 │ PT      JP       2017  0.705706\n",
       "  81 │ RO      JP       2017  0.002002\n",
       "  82 │ SE      JP       2017  0.334334\n",
       "  83 │ SI      JP       2017  0.219219\n",
       "  84 │ SK      JP       2017  0.406406\n",
       "\u001b[31m                           63 rows omitted\u001b[0m"
      ]
     },
     "execution_count": 13,
     "metadata": {},
     "output_type": "execute_result"
    }
   ],
   "source": [
    "ps"
   ]
  },
  {
   "cell_type": "code",
   "execution_count": 14,
   "metadata": {},
   "outputs": [],
   "source": [
    "save(\"../temp/p-values.csv\", ps)"
   ]
  },
  {
   "cell_type": "code",
   "execution_count": null,
   "metadata": {},
   "outputs": [],
   "source": []
  }
 ],
 "metadata": {
  "kernelspec": {
   "display_name": "Julia 1.4.2",
   "language": "julia",
   "name": "julia-1.4"
  },
  "language_info": {
   "file_extension": ".jl",
   "mimetype": "application/julia",
   "name": "julia",
   "version": "1.4.2"
  }
 },
 "nbformat": 4,
 "nbformat_minor": 4
}

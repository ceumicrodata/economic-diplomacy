{
 "cells": [
  {
   "cell_type": "code",
   "execution_count": 116,
   "metadata": {},
   "outputs": [
    {
     "name": "stderr",
     "output_type": "stream",
     "text": [
      "WARNING: replacing module Polya.\n"
     ]
    }
   ],
   "source": [
    "using Distributions\n",
    "using Random\n",
    "using Plots\n",
    "using DataFrames\n",
    "using Query\n",
    "include(\"./polya.jl\")\n",
    "using .Polya"
   ]
  },
  {
   "cell_type": "code",
   "execution_count": null,
   "metadata": {},
   "outputs": [],
   "source": [
    "function draw_dirichlet_multinomial(n::Integer, α::Vector{T1}, T::Real, K::Integer) where {T1 <: Real}\n",
    "    cdf = DirichletMultinomial(n, T .* α ./ sum(α))\n",
    "    return rand(cdf, K)\n",
    "end"
   ]
  },
  {
   "cell_type": "code",
   "execution_count": null,
   "metadata": {},
   "outputs": [],
   "source": [
    "K = 10\n",
    "p = ones(K) ./ K\n",
    "T = 0.5\n",
    "Xk = draw_dirichlet_multinomial(100, p, T, 10000)"
   ]
  },
  {
   "cell_type": "code",
   "execution_count": null,
   "metadata": {},
   "outputs": [],
   "source": [
    "Polya.mle(DirichletMultinomial, Xk)"
   ]
  },
  {
   "cell_type": "code",
   "execution_count": 62,
   "metadata": {},
   "outputs": [
    {
     "data": {
      "text/plain": [
       "compute_KLD (generic function with 1 method)"
      ]
     },
     "execution_count": 62,
     "metadata": {},
     "output_type": "execute_result"
    }
   ],
   "source": [
    "function compute_KLD(share::Array{Float64,N}, p::Vector{Float64}) where {N}\n",
    "    all(sum(share, dims=1) .≈ 1) || throw(ArgumentError(\"Shares have to sum to 1.\")) \n",
    "    deviation = log.(share ./ p)\n",
    "    # log(0) is fine because 0*log(0) = 0\n",
    "    replace!(deviation, -Inf=>0)\n",
    "    # convert to vector instead of 1xK array\n",
    "    return sum(share .* deviation, dims=1)\n",
    "end"
   ]
  },
  {
   "cell_type": "code",
   "execution_count": null,
   "metadata": {},
   "outputs": [],
   "source": [
    "KLD = compute_KLD(Xk ./ sum(Xk, dims=1), p)\n",
    "histogram(KLD[:])"
   ]
  },
  {
   "cell_type": "code",
   "execution_count": null,
   "metadata": {},
   "outputs": [],
   "source": [
    "P = DirichletMultinomial(20, T*p)\n",
    "pmf = Polya.simulate_ECDF(P, \n",
    "    x -> compute_KLD(x ./ sum(x, dims=1),\n",
    "        p), digits=3)"
   ]
  },
  {
   "cell_type": "code",
   "execution_count": null,
   "metadata": {},
   "outputs": [],
   "source": [
    "x = support(pmf)\n",
    "p = cumsum(probs(pmf))\n",
    "plot(x, p)"
   ]
  },
  {
   "cell_type": "code",
   "execution_count": null,
   "metadata": {},
   "outputs": [],
   "source": [
    "cdf(pmf, 2.2)"
   ]
  },
  {
   "cell_type": "code",
   "execution_count": null,
   "metadata": {},
   "outputs": [],
   "source": [
    "mean(pmf)"
   ]
  },
  {
   "cell_type": "code",
   "execution_count": 117,
   "metadata": {},
   "outputs": [
    {
     "data": {
      "text/plain": [
       "compute_p_values (generic function with 1 method)"
      ]
     },
     "execution_count": 117,
     "metadata": {},
     "output_type": "execute_result"
    }
   ],
   "source": [
    "function compute_p_values(A)\n",
    "    # exclude zero rows\n",
    "    data = A[vec(maximum(A, dims=2) .> 0), :]\n",
    "\n",
    "    K, N = size(data)\n",
    "    H0_params = Polya.mle(DirichletMultinomial, data, tol=1e-4)\n",
    "    H0_shares = H0_params.α ./ sum(H0_params.α)\n",
    "    actual_KLD = compute_KLD(data ./ sum(data, dims=1), H0_shares)\n",
    "    \n",
    "    p = zeros(Float64, N)\n",
    "    for i = 1:N\n",
    "        # actual number of shipments treated as a parameter\n",
    "        H1 = DirichletMultinomial(sum(data[:,i]), H0_params.α)\n",
    "        pmf = Polya.simulate_ECDF(H1, \n",
    "            x -> compute_KLD(x ./ sum(x, dims=1), \n",
    "                    H0_params.α ./ H0_params.α0), \n",
    "            maxiter=1000, digits=2)\n",
    "        p[i] = 1 - cdf(pmf, actual_KLD[1,i])\n",
    "    end\n",
    "    return p\n",
    "end"
   ]
  },
  {
   "cell_type": "code",
   "execution_count": null,
   "metadata": {},
   "outputs": [],
   "source": [
    "compute_p_values(Xk)"
   ]
  },
  {
   "cell_type": "code",
   "execution_count": 15,
   "metadata": {},
   "outputs": [
    {
     "ename": "UndefVarError",
     "evalue": "UndefVarError: readtable not defined",
     "output_type": "error",
     "traceback": [
      "UndefVarError: readtable not defined",
      "",
      "Stacktrace:",
      " [1] top-level scope at In[15]:1"
     ]
    }
   ],
   "source": [
    "data = readtable(\"../temp/shipment-clean.csv\")\n",
    "\"So as not to make notebook big.\""
   ]
  },
  {
   "cell_type": "code",
   "execution_count": 64,
   "metadata": {},
   "outputs": [
    {
     "data": {
      "text/plain": [
       "get_destination_matrix (generic function with 1 method)"
      ]
     },
     "execution_count": 64,
     "metadata": {},
     "output_type": "execute_result"
    }
   ],
   "source": [
    "function get_destination_matrix(data; country::String, year::Int = 2017)\n",
    "    return filter(row -> row.iso2_d == country && row.year == year, data)[:,4:end-1]\n",
    "end"
   ]
  },
  {
   "cell_type": "code",
   "execution_count": 65,
   "metadata": {},
   "outputs": [
    {
     "data": {
      "text/html": [
       "<table class=\"data-frame\"><thead><tr><th></th><th>shipments1</th><th>shipments2</th><th>shipments3</th><th>shipments4</th><th>shipments5</th><th>shipments6</th><th>shipments7</th></tr><tr><th></th><th>Int64</th><th>Int64</th><th>Int64</th><th>Int64</th><th>Int64</th><th>Int64</th><th>Int64</th></tr></thead><tbody><p>28 rows × 96 columns (omitted printing of 89 columns)</p><tr><th>1</th><td>190</td><td>1</td><td>0</td><td>29</td><td>28</td><td>148</td><td>126</td></tr><tr><th>2</th><td>93</td><td>8</td><td>304</td><td>15</td><td>43</td><td>35</td><td>205</td></tr><tr><th>3</th><td>2</td><td>1</td><td>0</td><td>8</td><td>8</td><td>1</td><td>71</td></tr><tr><th>4</th><td>6</td><td>2</td><td>0</td><td>0</td><td>0</td><td>7</td><td>1</td></tr><tr><th>5</th><td>45</td><td>36</td><td>77</td><td>1676</td><td>6</td><td>1</td><td>91</td></tr><tr><th>6</th><td>3441</td><td>0</td><td>5061</td><td>2435</td><td>709</td><td>263</td><td>1188</td></tr><tr><th>7</th><td>1312</td><td>122</td><td>7411</td><td>44</td><td>138</td><td>80</td><td>7</td></tr><tr><th>8</th><td>116</td><td>7</td><td>365</td><td>1</td><td>2</td><td>16</td><td>71</td></tr><tr><th>9</th><td>6</td><td>0</td><td>2690</td><td>377</td><td>28</td><td>1</td><td>157</td></tr><tr><th>10</th><td>81</td><td>188</td><td>99</td><td>48</td><td>7</td><td>29</td><td>125</td></tr><tr><th>11</th><td>299</td><td>100</td><td>4351</td><td>1916</td><td>19</td><td>84</td><td>209</td></tr><tr><th>12</th><td>93</td><td>7</td><td>6632</td><td>478</td><td>43</td><td>1</td><td>589</td></tr><tr><th>13</th><td>0</td><td>0</td><td>12</td><td>0</td><td>1</td><td>72</td><td>3</td></tr><tr><th>14</th><td>1</td><td>0</td><td>0</td><td>4</td><td>0</td><td>1</td><td>0</td></tr><tr><th>15</th><td>2298</td><td>138</td><td>30</td><td>574</td><td>19</td><td>90</td><td>180</td></tr><tr><th>16</th><td>76</td><td>0</td><td>74</td><td>2</td><td>0</td><td>0</td><td>1</td></tr><tr><th>17</th><td>20</td><td>266</td><td>190</td><td>31</td><td>195</td><td>1893</td><td>1121</td></tr><tr><th>18</th><td>64</td><td>145</td><td>2153</td><td>69</td><td>28</td><td>6884</td><td>1471</td></tr><tr><th>19</th><td>0</td><td>0</td><td>0</td><td>1</td><td>0</td><td>0</td><td>0</td></tr><tr><th>20</th><td>92</td><td>1</td><td>22</td><td>3</td><td>1</td><td>2887</td><td>77</td></tr><tr><th>21</th><td>1</td><td>0</td><td>0</td><td>0</td><td>0</td><td>0</td><td>1</td></tr><tr><th>22</th><td>5237</td><td>77</td><td>22277</td><td>3668</td><td>201</td><td>17289</td><td>3806</td></tr><tr><th>23</th><td>84</td><td>7</td><td>4646</td><td>39</td><td>431</td><td>2911</td><td>301</td></tr><tr><th>24</th><td>1</td><td>0</td><td>3763</td><td>381</td><td>1557</td><td>0</td><td>8</td></tr><tr><th>25</th><td>0</td><td>0</td><td>0</td><td>0</td><td>35</td><td>0</td><td>31</td></tr><tr><th>26</th><td>10</td><td>1</td><td>241</td><td>45</td><td>0</td><td>0</td><td>6</td></tr><tr><th>27</th><td>0</td><td>1</td><td>0</td><td>0</td><td>0</td><td>9</td><td>106</td></tr><tr><th>28</th><td>82</td><td>0</td><td>73</td><td>287</td><td>20</td><td>0</td><td>1</td></tr></tbody></table>"
      ],
      "text/latex": [
       "\\begin{tabular}{r|cccccccc}\n",
       "\t& shipments1 & shipments2 & shipments3 & shipments4 & shipments5 & shipments6 & shipments7 & \\\\\n",
       "\t\\hline\n",
       "\t& Int64 & Int64 & Int64 & Int64 & Int64 & Int64 & Int64 & \\\\\n",
       "\t\\hline\n",
       "\t1 & 190 & 1 & 0 & 29 & 28 & 148 & 126 & $\\dots$ \\\\\n",
       "\t2 & 93 & 8 & 304 & 15 & 43 & 35 & 205 & $\\dots$ \\\\\n",
       "\t3 & 2 & 1 & 0 & 8 & 8 & 1 & 71 & $\\dots$ \\\\\n",
       "\t4 & 6 & 2 & 0 & 0 & 0 & 7 & 1 & $\\dots$ \\\\\n",
       "\t5 & 45 & 36 & 77 & 1676 & 6 & 1 & 91 & $\\dots$ \\\\\n",
       "\t6 & 3441 & 0 & 5061 & 2435 & 709 & 263 & 1188 & $\\dots$ \\\\\n",
       "\t7 & 1312 & 122 & 7411 & 44 & 138 & 80 & 7 & $\\dots$ \\\\\n",
       "\t8 & 116 & 7 & 365 & 1 & 2 & 16 & 71 & $\\dots$ \\\\\n",
       "\t9 & 6 & 0 & 2690 & 377 & 28 & 1 & 157 & $\\dots$ \\\\\n",
       "\t10 & 81 & 188 & 99 & 48 & 7 & 29 & 125 & $\\dots$ \\\\\n",
       "\t11 & 299 & 100 & 4351 & 1916 & 19 & 84 & 209 & $\\dots$ \\\\\n",
       "\t12 & 93 & 7 & 6632 & 478 & 43 & 1 & 589 & $\\dots$ \\\\\n",
       "\t13 & 0 & 0 & 12 & 0 & 1 & 72 & 3 & $\\dots$ \\\\\n",
       "\t14 & 1 & 0 & 0 & 4 & 0 & 1 & 0 & $\\dots$ \\\\\n",
       "\t15 & 2298 & 138 & 30 & 574 & 19 & 90 & 180 & $\\dots$ \\\\\n",
       "\t16 & 76 & 0 & 74 & 2 & 0 & 0 & 1 & $\\dots$ \\\\\n",
       "\t17 & 20 & 266 & 190 & 31 & 195 & 1893 & 1121 & $\\dots$ \\\\\n",
       "\t18 & 64 & 145 & 2153 & 69 & 28 & 6884 & 1471 & $\\dots$ \\\\\n",
       "\t19 & 0 & 0 & 0 & 1 & 0 & 0 & 0 & $\\dots$ \\\\\n",
       "\t20 & 92 & 1 & 22 & 3 & 1 & 2887 & 77 & $\\dots$ \\\\\n",
       "\t21 & 1 & 0 & 0 & 0 & 0 & 0 & 1 & $\\dots$ \\\\\n",
       "\t22 & 5237 & 77 & 22277 & 3668 & 201 & 17289 & 3806 & $\\dots$ \\\\\n",
       "\t23 & 84 & 7 & 4646 & 39 & 431 & 2911 & 301 & $\\dots$ \\\\\n",
       "\t24 & 1 & 0 & 3763 & 381 & 1557 & 0 & 8 & $\\dots$ \\\\\n",
       "\t25 & 0 & 0 & 0 & 0 & 35 & 0 & 31 & $\\dots$ \\\\\n",
       "\t26 & 10 & 1 & 241 & 45 & 0 & 0 & 6 & $\\dots$ \\\\\n",
       "\t27 & 0 & 1 & 0 & 0 & 0 & 9 & 106 & $\\dots$ \\\\\n",
       "\t28 & 82 & 0 & 73 & 287 & 20 & 0 & 1 & $\\dots$ \\\\\n",
       "\\end{tabular}\n"
      ],
      "text/plain": [
       "\u001b[1m28×96 DataFrame\u001b[0m\n",
       "\u001b[1m Row \u001b[0m│\u001b[1m shipments1 \u001b[0m\u001b[1m shipments2 \u001b[0m\u001b[1m shipments3 \u001b[0m\u001b[1m shipments4 \u001b[0m\u001b[1m shipments5 \u001b[0m\u001b[1m shipments6 \u001b[0m\u001b[1m\u001b[0m ⋯\n",
       "\u001b[1m     \u001b[0m│\u001b[90m Int64      \u001b[0m\u001b[90m Int64      \u001b[0m\u001b[90m Int64      \u001b[0m\u001b[90m Int64      \u001b[0m\u001b[90m Int64      \u001b[0m\u001b[90m Int64      \u001b[0m\u001b[90m\u001b[0m ⋯\n",
       "─────┼──────────────────────────────────────────────────────────────────────────\n",
       "   1 │        190           1           0          29          28         148  ⋯\n",
       "   2 │         93           8         304          15          43          35\n",
       "   3 │          2           1           0           8           8           1\n",
       "   4 │          6           2           0           0           0           7\n",
       "   5 │         45          36          77        1676           6           1  ⋯\n",
       "   6 │       3441           0        5061        2435         709         263\n",
       "   7 │       1312         122        7411          44         138          80\n",
       "   8 │        116           7         365           1           2          16\n",
       "   9 │          6           0        2690         377          28           1  ⋯\n",
       "  10 │         81         188          99          48           7          29\n",
       "  11 │        299         100        4351        1916          19          84\n",
       "  ⋮  │     ⋮           ⋮           ⋮           ⋮           ⋮           ⋮       ⋱\n",
       "  19 │          0           0           0           1           0           0\n",
       "  20 │         92           1          22           3           1        2887  ⋯\n",
       "  21 │          1           0           0           0           0           0\n",
       "  22 │       5237          77       22277        3668         201       17289\n",
       "  23 │         84           7        4646          39         431        2911\n",
       "  24 │          1           0        3763         381        1557           0  ⋯\n",
       "  25 │          0           0           0           0          35           0\n",
       "  26 │         10           1         241          45           0           0\n",
       "  27 │          0           1           0           0           0           9\n",
       "  28 │         82           0          73         287          20           0  ⋯\n",
       "\u001b[31m                                                   90 columns and 7 rows omitted\u001b[0m"
      ]
     },
     "execution_count": 65,
     "metadata": {},
     "output_type": "execute_result"
    }
   ],
   "source": [
    "russia = get_destination_matrix(data; country=\"RU\", year=2017)"
   ]
  },
  {
   "cell_type": "code",
   "execution_count": 71,
   "metadata": {},
   "outputs": [
    {
     "data": {
      "text/plain": [
       "flip (generic function with 1 method)"
      ]
     },
     "execution_count": 71,
     "metadata": {},
     "output_type": "execute_result"
    }
   ],
   "source": [
    "function flip(df::DataFrame) :: Array\n",
    "    return Array(Array(df)')\n",
    "end"
   ]
  },
  {
   "cell_type": "code",
   "execution_count": 127,
   "metadata": {},
   "outputs": [
    {
     "name": "stdout",
     "output_type": "stream",
     "text": [
      "AD2001\n",
      "AD2002\n",
      "AD2003\n",
      "AD2004\n",
      "AD2005\n",
      "AD2006\n",
      "AD2007\n",
      "AD2008\n",
      "AD2009\n",
      "AD2010\n",
      "AD2011\n",
      "AD2012\n",
      "AD2013\n",
      "AD2014\n"
     ]
    },
    {
     "ename": "InterruptException",
     "evalue": "InterruptException:",
     "output_type": "error",
     "traceback": [
      "InterruptException:",
      "",
      "Stacktrace:",
      " [1] SubArray at ./subarray.jl:22 [inlined]",
      " [2] SubArray at ./subarray.jl:38 [inlined]",
      " [3] SubArray at ./subarray.jl:28 [inlined]",
      " [4] unsafe_view at ./subarray.jl:169 [inlined]",
      " [5] view at ./subarray.jl:164 [inlined]",
      " [6] _rand!(::Random._GLOBAL_RNG, ::DirichletMultinomial{Float64}, ::Array{Int64,2}) at /Users/koren/Tresorit/projects/economic-diplomacy/analysis/dev/Distributions/src/multivariates.jl:33",
      " [7] rand at /Users/koren/Tresorit/projects/economic-diplomacy/analysis/dev/Distributions/src/multivariates.jl:70 [inlined]",
      " [8] rand at /Users/koren/Tresorit/projects/economic-diplomacy/analysis/dev/Distributions/src/multivariates.jl:69 [inlined]",
      " [9] simulate_ECDF(::DirichletMultinomial{Float64}, ::var\"#54#55\"{DirichletMultinomial{Float64}}; maxiter::Int64, digits::Int64) at /Users/koren/Tresorit/projects/economic-diplomacy/analysis/polya.jl:47",
      " [10] compute_p_values(::Array{Int64,2}) at ./In[117]:14",
      " [11] top-level scope at In[127]:9"
     ]
    }
   ],
   "source": [
    "destinations = DataFrame(iso2_d=unique(data.iso2_d))\n",
    "years = DataFrame(year=unique(data.year))\n",
    "ps = copy(data[1:0,1:3])\n",
    "ps.p = zeros(Float64, size(ps, 1))\n",
    "for d in eachrow(destinations)\n",
    "    for t in eachrow(years) \n",
    "        println(d[1], t[1])\n",
    "        subset = get_destination_matrix(data, country=d[1], year=t[1])\n",
    "        p = compute_p_values(flip(subset))\n",
    "        new_batch = filter(row -> row.iso2_d == d[1] && row.year == t[1], data)[:,1:3]\n",
    "        new_batch[:,:p] = p\n",
    "        append!(ps, new_batch)\n",
    "    end\n",
    "end\n"
   ]
  },
  {
   "cell_type": "code",
   "execution_count": 128,
   "metadata": {},
   "outputs": [
    {
     "data": {
      "text/html": [
       "<table class=\"data-frame\"><thead><tr><th></th><th>iso2_o</th><th>iso2_d</th><th>year</th><th>p</th></tr><tr><th></th><th>String</th><th>String</th><th>Int64</th><th>Float64</th></tr></thead><tbody><p>345 rows × 4 columns</p><tr><th>1</th><td>AT</td><td>AD</td><td>2001</td><td>0.61962</td></tr><tr><th>2</th><td>BE</td><td>AD</td><td>2001</td><td>0.1001</td></tr><tr><th>3</th><td>BG</td><td>AD</td><td>2001</td><td>0.533534</td></tr><tr><th>4</th><td>CY</td><td>AD</td><td>2001</td><td>0.610611</td></tr><tr><th>5</th><td>CZ</td><td>AD</td><td>2001</td><td>0.901902</td></tr><tr><th>6</th><td>DE</td><td>AD</td><td>2001</td><td>0.219219</td></tr><tr><th>7</th><td>DK</td><td>AD</td><td>2001</td><td>0.001001</td></tr><tr><th>8</th><td>EE</td><td>AD</td><td>2001</td><td>0.00700701</td></tr><tr><th>9</th><td>ES</td><td>AD</td><td>2001</td><td>1.0</td></tr><tr><th>10</th><td>FI</td><td>AD</td><td>2001</td><td>0.0</td></tr><tr><th>11</th><td>FR</td><td>AD</td><td>2001</td><td>0.866867</td></tr><tr><th>12</th><td>GB</td><td>AD</td><td>2001</td><td>0.002002</td></tr><tr><th>13</th><td>GR</td><td>AD</td><td>2001</td><td>0.936937</td></tr><tr><th>14</th><td>HR</td><td>AD</td><td>2001</td><td>1.0</td></tr><tr><th>15</th><td>HU</td><td>AD</td><td>2001</td><td>0.016016</td></tr><tr><th>16</th><td>IE</td><td>AD</td><td>2001</td><td>0.0</td></tr><tr><th>17</th><td>IT</td><td>AD</td><td>2001</td><td>0.101101</td></tr><tr><th>18</th><td>LT</td><td>AD</td><td>2001</td><td>0.778779</td></tr><tr><th>19</th><td>LU</td><td>AD</td><td>2001</td><td>0.001001</td></tr><tr><th>20</th><td>LV</td><td>AD</td><td>2001</td><td>0.905906</td></tr><tr><th>21</th><td>MT</td><td>AD</td><td>2001</td><td>0.0760761</td></tr><tr><th>22</th><td>NL</td><td>AD</td><td>2001</td><td>0.004004</td></tr><tr><th>23</th><td>PL</td><td>AD</td><td>2001</td><td>0.003003</td></tr><tr><th>24</th><td>PT</td><td>AD</td><td>2001</td><td>0.477477</td></tr><tr><th>25</th><td>RO</td><td>AD</td><td>2001</td><td>0.013013</td></tr><tr><th>26</th><td>SE</td><td>AD</td><td>2001</td><td>0.913914</td></tr><tr><th>27</th><td>SI</td><td>AD</td><td>2001</td><td>0.003003</td></tr><tr><th>28</th><td>SK</td><td>AD</td><td>2001</td><td>0.531532</td></tr><tr><th>29</th><td>AT</td><td>AD</td><td>2002</td><td>0.441441</td></tr><tr><th>30</th><td>BE</td><td>AD</td><td>2002</td><td>0.536537</td></tr><tr><th>&vellip;</th><td>&vellip;</td><td>&vellip;</td><td>&vellip;</td><td>&vellip;</td></tr></tbody></table>"
      ],
      "text/latex": [
       "\\begin{tabular}{r|cccc}\n",
       "\t& iso2\\_o & iso2\\_d & year & p\\\\\n",
       "\t\\hline\n",
       "\t& String & String & Int64 & Float64\\\\\n",
       "\t\\hline\n",
       "\t1 & AT & AD & 2001 & 0.61962 \\\\\n",
       "\t2 & BE & AD & 2001 & 0.1001 \\\\\n",
       "\t3 & BG & AD & 2001 & 0.533534 \\\\\n",
       "\t4 & CY & AD & 2001 & 0.610611 \\\\\n",
       "\t5 & CZ & AD & 2001 & 0.901902 \\\\\n",
       "\t6 & DE & AD & 2001 & 0.219219 \\\\\n",
       "\t7 & DK & AD & 2001 & 0.001001 \\\\\n",
       "\t8 & EE & AD & 2001 & 0.00700701 \\\\\n",
       "\t9 & ES & AD & 2001 & 1.0 \\\\\n",
       "\t10 & FI & AD & 2001 & 0.0 \\\\\n",
       "\t11 & FR & AD & 2001 & 0.866867 \\\\\n",
       "\t12 & GB & AD & 2001 & 0.002002 \\\\\n",
       "\t13 & GR & AD & 2001 & 0.936937 \\\\\n",
       "\t14 & HR & AD & 2001 & 1.0 \\\\\n",
       "\t15 & HU & AD & 2001 & 0.016016 \\\\\n",
       "\t16 & IE & AD & 2001 & 0.0 \\\\\n",
       "\t17 & IT & AD & 2001 & 0.101101 \\\\\n",
       "\t18 & LT & AD & 2001 & 0.778779 \\\\\n",
       "\t19 & LU & AD & 2001 & 0.001001 \\\\\n",
       "\t20 & LV & AD & 2001 & 0.905906 \\\\\n",
       "\t21 & MT & AD & 2001 & 0.0760761 \\\\\n",
       "\t22 & NL & AD & 2001 & 0.004004 \\\\\n",
       "\t23 & PL & AD & 2001 & 0.003003 \\\\\n",
       "\t24 & PT & AD & 2001 & 0.477477 \\\\\n",
       "\t25 & RO & AD & 2001 & 0.013013 \\\\\n",
       "\t26 & SE & AD & 2001 & 0.913914 \\\\\n",
       "\t27 & SI & AD & 2001 & 0.003003 \\\\\n",
       "\t28 & SK & AD & 2001 & 0.531532 \\\\\n",
       "\t29 & AT & AD & 2002 & 0.441441 \\\\\n",
       "\t30 & BE & AD & 2002 & 0.536537 \\\\\n",
       "\t$\\dots$ & $\\dots$ & $\\dots$ & $\\dots$ & $\\dots$ \\\\\n",
       "\\end{tabular}\n"
      ],
      "text/plain": [
       "\u001b[1m345×4 DataFrame\u001b[0m\n",
       "\u001b[1m Row \u001b[0m│\u001b[1m iso2_o \u001b[0m\u001b[1m iso2_d \u001b[0m\u001b[1m year  \u001b[0m\u001b[1m p          \u001b[0m\n",
       "\u001b[1m     \u001b[0m│\u001b[90m String \u001b[0m\u001b[90m String \u001b[0m\u001b[90m Int64 \u001b[0m\u001b[90m Float64    \u001b[0m\n",
       "─────┼───────────────────────────────────\n",
       "   1 │ AT      AD       2001  0.61962\n",
       "   2 │ BE      AD       2001  0.1001\n",
       "   3 │ BG      AD       2001  0.533534\n",
       "   4 │ CY      AD       2001  0.610611\n",
       "   5 │ CZ      AD       2001  0.901902\n",
       "   6 │ DE      AD       2001  0.219219\n",
       "   7 │ DK      AD       2001  0.001001\n",
       "   8 │ EE      AD       2001  0.00700701\n",
       "   9 │ ES      AD       2001  1.0\n",
       "  10 │ FI      AD       2001  0.0\n",
       "  11 │ FR      AD       2001  0.866867\n",
       "  ⋮  │   ⋮       ⋮       ⋮        ⋮\n",
       " 336 │ LU      AD       2013  0.0\n",
       " 337 │ LV      AD       2013  0.023023\n",
       " 338 │ MT      AD       2013  0.554555\n",
       " 339 │ NL      AD       2013  0.607608\n",
       " 340 │ PL      AD       2013  0.047047\n",
       " 341 │ PT      AD       2013  0.004004\n",
       " 342 │ RO      AD       2013  0.0\n",
       " 343 │ SE      AD       2013  0.581582\n",
       " 344 │ SI      AD       2013  0.002002\n",
       " 345 │ SK      AD       2013  0.116116\n",
       "\u001b[31m                         324 rows omitted\u001b[0m"
      ]
     },
     "execution_count": 128,
     "metadata": {},
     "output_type": "execute_result"
    }
   ],
   "source": [
    "ps"
   ]
  },
  {
   "cell_type": "code",
   "execution_count": 77,
   "metadata": {},
   "outputs": [
    {
     "name": "stdout",
     "output_type": "stream",
     "text": [
      "116.54745432892767\n"
     ]
    },
    {
     "data": {
      "text/plain": [
       "DirichletMultinomial{Float64}(\n",
       "n: 3797679\n",
       "α: [1.0889495101313467, 1.0072202239725665, 1.394056104553309, 1.079051026183397, 1.02293137920529, 1.2131008703527693, 1.0648582032481535, 1.05595673578739, 1.1110923991735677, 1.2408088056698747  …  2.4492384032733425, 1.3791008572455112, 3.0853218892030876, 1.0310769387411276, 1.0097877043382624, 1.0174510467495785, 1.855492277587067, 1.2723549286402664, 1.2695072410265378, 1.051831824438442]\n",
       ")\n"
      ]
     },
     "execution_count": 77,
     "metadata": {},
     "output_type": "execute_result"
    }
   ],
   "source": [
    "Polya.gmm(DirichletMultinomial, flip(russia))"
   ]
  },
  {
   "cell_type": "code",
   "execution_count": 74,
   "metadata": {},
   "outputs": [
    {
     "data": {
      "text/plain": [
       "(28, 96)"
      ]
     },
     "execution_count": 74,
     "metadata": {},
     "output_type": "execute_result"
    }
   ],
   "source": [
    "size(russia)"
   ]
  },
  {
   "cell_type": "code",
   "execution_count": 93,
   "metadata": {},
   "outputs": [
    {
     "data": {
      "text/html": [
       "<table class=\"data-frame\"><thead><tr><th></th><th>shipments1</th><th>shipments2</th><th>shipments3</th><th>shipments4</th><th>shipments5</th><th>shipments6</th><th>shipments7</th></tr><tr><th></th><th>Int64</th><th>Int64</th><th>Int64</th><th>Int64</th><th>Int64</th><th>Int64</th><th>Int64</th></tr></thead><tbody><p>28 rows × 96 columns (omitted printing of 89 columns)</p><tr><th>1</th><td>0</td><td>0</td><td>0</td><td>0</td><td>0</td><td>0</td><td>0</td></tr><tr><th>2</th><td>0</td><td>0</td><td>0</td><td>0</td><td>0</td><td>0</td><td>0</td></tr><tr><th>3</th><td>0</td><td>0</td><td>0</td><td>0</td><td>0</td><td>0</td><td>0</td></tr><tr><th>4</th><td>0</td><td>0</td><td>0</td><td>0</td><td>0</td><td>0</td><td>0</td></tr><tr><th>5</th><td>0</td><td>0</td><td>1</td><td>0</td><td>0</td><td>0</td><td>0</td></tr><tr><th>6</th><td>0</td><td>0</td><td>0</td><td>3</td><td>1</td><td>0</td><td>0</td></tr><tr><th>7</th><td>0</td><td>0</td><td>0</td><td>10</td><td>0</td><td>0</td><td>0</td></tr><tr><th>8</th><td>0</td><td>0</td><td>0</td><td>0</td><td>0</td><td>0</td><td>0</td></tr><tr><th>9</th><td>52</td><td>980</td><td>616</td><td>788</td><td>6</td><td>50</td><td>195</td></tr><tr><th>10</th><td>0</td><td>0</td><td>0</td><td>0</td><td>0</td><td>0</td><td>0</td></tr><tr><th>11</th><td>9</td><td>279</td><td>29</td><td>888</td><td>2</td><td>7</td><td>36</td></tr><tr><th>12</th><td>0</td><td>0</td><td>0</td><td>1</td><td>0</td><td>0</td><td>3</td></tr><tr><th>13</th><td>0</td><td>0</td><td>0</td><td>0</td><td>0</td><td>0</td><td>0</td></tr><tr><th>14</th><td>0</td><td>0</td><td>0</td><td>0</td><td>0</td><td>0</td><td>0</td></tr><tr><th>15</th><td>0</td><td>0</td><td>0</td><td>0</td><td>0</td><td>0</td><td>0</td></tr><tr><th>16</th><td>0</td><td>0</td><td>0</td><td>0</td><td>0</td><td>0</td><td>0</td></tr><tr><th>17</th><td>0</td><td>0</td><td>0</td><td>3</td><td>0</td><td>0</td><td>11</td></tr><tr><th>18</th><td>0</td><td>0</td><td>0</td><td>0</td><td>0</td><td>0</td><td>0</td></tr><tr><th>19</th><td>0</td><td>0</td><td>0</td><td>0</td><td>0</td><td>0</td><td>0</td></tr><tr><th>20</th><td>0</td><td>0</td><td>0</td><td>0</td><td>0</td><td>0</td><td>0</td></tr><tr><th>21</th><td>1</td><td>0</td><td>0</td><td>0</td><td>0</td><td>0</td><td>0</td></tr><tr><th>22</th><td>0</td><td>0</td><td>0</td><td>140</td><td>0</td><td>0</td><td>0</td></tr><tr><th>23</th><td>0</td><td>0</td><td>0</td><td>27</td><td>0</td><td>0</td><td>0</td></tr><tr><th>24</th><td>0</td><td>1</td><td>10</td><td>11</td><td>0</td><td>0</td><td>1</td></tr><tr><th>25</th><td>0</td><td>0</td><td>0</td><td>0</td><td>0</td><td>0</td><td>0</td></tr><tr><th>26</th><td>0</td><td>0</td><td>0</td><td>0</td><td>0</td><td>0</td><td>0</td></tr><tr><th>27</th><td>0</td><td>0</td><td>0</td><td>0</td><td>0</td><td>0</td><td>0</td></tr><tr><th>28</th><td>0</td><td>0</td><td>1</td><td>0</td><td>0</td><td>1</td><td>0</td></tr></tbody></table>"
      ],
      "text/latex": [
       "\\begin{tabular}{r|cccccccc}\n",
       "\t& shipments1 & shipments2 & shipments3 & shipments4 & shipments5 & shipments6 & shipments7 & \\\\\n",
       "\t\\hline\n",
       "\t& Int64 & Int64 & Int64 & Int64 & Int64 & Int64 & Int64 & \\\\\n",
       "\t\\hline\n",
       "\t1 & 0 & 0 & 0 & 0 & 0 & 0 & 0 & $\\dots$ \\\\\n",
       "\t2 & 0 & 0 & 0 & 0 & 0 & 0 & 0 & $\\dots$ \\\\\n",
       "\t3 & 0 & 0 & 0 & 0 & 0 & 0 & 0 & $\\dots$ \\\\\n",
       "\t4 & 0 & 0 & 0 & 0 & 0 & 0 & 0 & $\\dots$ \\\\\n",
       "\t5 & 0 & 0 & 1 & 0 & 0 & 0 & 0 & $\\dots$ \\\\\n",
       "\t6 & 0 & 0 & 0 & 3 & 1 & 0 & 0 & $\\dots$ \\\\\n",
       "\t7 & 0 & 0 & 0 & 10 & 0 & 0 & 0 & $\\dots$ \\\\\n",
       "\t8 & 0 & 0 & 0 & 0 & 0 & 0 & 0 & $\\dots$ \\\\\n",
       "\t9 & 52 & 980 & 616 & 788 & 6 & 50 & 195 & $\\dots$ \\\\\n",
       "\t10 & 0 & 0 & 0 & 0 & 0 & 0 & 0 & $\\dots$ \\\\\n",
       "\t11 & 9 & 279 & 29 & 888 & 2 & 7 & 36 & $\\dots$ \\\\\n",
       "\t12 & 0 & 0 & 0 & 1 & 0 & 0 & 3 & $\\dots$ \\\\\n",
       "\t13 & 0 & 0 & 0 & 0 & 0 & 0 & 0 & $\\dots$ \\\\\n",
       "\t14 & 0 & 0 & 0 & 0 & 0 & 0 & 0 & $\\dots$ \\\\\n",
       "\t15 & 0 & 0 & 0 & 0 & 0 & 0 & 0 & $\\dots$ \\\\\n",
       "\t16 & 0 & 0 & 0 & 0 & 0 & 0 & 0 & $\\dots$ \\\\\n",
       "\t17 & 0 & 0 & 0 & 3 & 0 & 0 & 11 & $\\dots$ \\\\\n",
       "\t18 & 0 & 0 & 0 & 0 & 0 & 0 & 0 & $\\dots$ \\\\\n",
       "\t19 & 0 & 0 & 0 & 0 & 0 & 0 & 0 & $\\dots$ \\\\\n",
       "\t20 & 0 & 0 & 0 & 0 & 0 & 0 & 0 & $\\dots$ \\\\\n",
       "\t21 & 1 & 0 & 0 & 0 & 0 & 0 & 0 & $\\dots$ \\\\\n",
       "\t22 & 0 & 0 & 0 & 140 & 0 & 0 & 0 & $\\dots$ \\\\\n",
       "\t23 & 0 & 0 & 0 & 27 & 0 & 0 & 0 & $\\dots$ \\\\\n",
       "\t24 & 0 & 1 & 10 & 11 & 0 & 0 & 1 & $\\dots$ \\\\\n",
       "\t25 & 0 & 0 & 0 & 0 & 0 & 0 & 0 & $\\dots$ \\\\\n",
       "\t26 & 0 & 0 & 0 & 0 & 0 & 0 & 0 & $\\dots$ \\\\\n",
       "\t27 & 0 & 0 & 0 & 0 & 0 & 0 & 0 & $\\dots$ \\\\\n",
       "\t28 & 0 & 0 & 1 & 0 & 0 & 1 & 0 & $\\dots$ \\\\\n",
       "\\end{tabular}\n"
      ],
      "text/plain": [
       "\u001b[1m28×96 DataFrame\u001b[0m\n",
       "\u001b[1m Row \u001b[0m│\u001b[1m shipments1 \u001b[0m\u001b[1m shipments2 \u001b[0m\u001b[1m shipments3 \u001b[0m\u001b[1m shipments4 \u001b[0m\u001b[1m shipments5 \u001b[0m\u001b[1m shipments6 \u001b[0m\u001b[1m\u001b[0m ⋯\n",
       "\u001b[1m     \u001b[0m│\u001b[90m Int64      \u001b[0m\u001b[90m Int64      \u001b[0m\u001b[90m Int64      \u001b[0m\u001b[90m Int64      \u001b[0m\u001b[90m Int64      \u001b[0m\u001b[90m Int64      \u001b[0m\u001b[90m\u001b[0m ⋯\n",
       "─────┼──────────────────────────────────────────────────────────────────────────\n",
       "   1 │          0           0           0           0           0           0  ⋯\n",
       "   2 │          0           0           0           0           0           0\n",
       "   3 │          0           0           0           0           0           0\n",
       "   4 │          0           0           0           0           0           0\n",
       "   5 │          0           0           1           0           0           0  ⋯\n",
       "   6 │          0           0           0           3           1           0\n",
       "   7 │          0           0           0          10           0           0\n",
       "   8 │          0           0           0           0           0           0\n",
       "   9 │         52         980         616         788           6          50  ⋯\n",
       "  10 │          0           0           0           0           0           0\n",
       "  11 │          9         279          29         888           2           7\n",
       "  ⋮  │     ⋮           ⋮           ⋮           ⋮           ⋮           ⋮       ⋱\n",
       "  19 │          0           0           0           0           0           0\n",
       "  20 │          0           0           0           0           0           0  ⋯\n",
       "  21 │          1           0           0           0           0           0\n",
       "  22 │          0           0           0         140           0           0\n",
       "  23 │          0           0           0          27           0           0\n",
       "  24 │          0           1          10          11           0           0  ⋯\n",
       "  25 │          0           0           0           0           0           0\n",
       "  26 │          0           0           0           0           0           0\n",
       "  27 │          0           0           0           0           0           0\n",
       "  28 │          0           0           1           0           0           1  ⋯\n",
       "\u001b[31m                                                   90 columns and 7 rows omitted\u001b[0m"
      ]
     },
     "execution_count": 93,
     "metadata": {},
     "output_type": "execute_result"
    }
   ],
   "source": [
    "AD2001 = get_destination_matrix(data, country=\"AD\", year=2001)"
   ]
  },
  {
   "cell_type": "code",
   "execution_count": 97,
   "metadata": {},
   "outputs": [
    {
     "data": {
      "text/plain": [
       "4×2 Array{Int64,2}:\n",
       " 1  2\n",
       " 0  0\n",
       " 3  4\n",
       " 5  6"
      ]
     },
     "execution_count": 97,
     "metadata": {},
     "output_type": "execute_result"
    }
   ],
   "source": [
    "A = [1 2; 0 0; 3 4; 5 6]"
   ]
  },
  {
   "cell_type": "code",
   "execution_count": 122,
   "metadata": {},
   "outputs": [
    {
     "data": {
      "text/plain": [
       "0-element Array{Int64,1}"
      ]
     },
     "execution_count": 122,
     "metadata": {},
     "output_type": "execute_result"
    }
   ],
   "source": [
    "A[1:0]"
   ]
  },
  {
   "cell_type": "code",
   "execution_count": null,
   "metadata": {},
   "outputs": [],
   "source": []
  }
 ],
 "metadata": {
  "kernelspec": {
   "display_name": "Julia 1.4.2",
   "language": "julia",
   "name": "julia-1.4"
  },
  "language_info": {
   "file_extension": ".jl",
   "mimetype": "application/julia",
   "name": "julia",
   "version": "1.4.2"
  }
 },
 "nbformat": 4,
 "nbformat_minor": 4
}

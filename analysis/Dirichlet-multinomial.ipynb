{
 "cells": [
  {
   "cell_type": "code",
   "execution_count": 1,
   "metadata": {},
   "outputs": [],
   "source": [
    "using Distributions\n",
    "using Random\n",
    "using Plots\n",
    "include(\"./polya.jl\")\n",
    "using .Polya"
   ]
  },
  {
   "cell_type": "code",
   "execution_count": 2,
   "metadata": {},
   "outputs": [
    {
     "name": "stdout",
     "output_type": "stream",
     "text": [
      "DirichletMultinomial{Float64}(n=20, α=[276.2222163331351, 252.6320408970934])\n",
      "DirichletMultinomial{Float64}(n=20, α=[40.800000000000274, 37.400000000000254])\n"
     ]
    }
   ],
   "source": [
    "X = [2 10; 1 10]\n",
    "println(Polya.mle(DirichletMultinomial, X))\n",
    "println(Polya.gmm(DirichletMultinomial, X))"
   ]
  },
  {
   "cell_type": "code",
   "execution_count": 3,
   "metadata": {},
   "outputs": [
    {
     "data": {
      "text/plain": [
       "draw_dirichlet_multinomial (generic function with 1 method)"
      ]
     },
     "execution_count": 3,
     "metadata": {},
     "output_type": "execute_result"
    }
   ],
   "source": [
    "function draw_dirichlet_multinomial(n::Integer, α::Vector{T1}, T::Real, K::Integer) where {T1 <: Real}\n",
    "    cdf = DirichletMultinomial(n, T .* α ./ sum(α))\n",
    "    return rand(cdf, K)\n",
    "end"
   ]
  },
  {
   "cell_type": "code",
   "execution_count": 4,
   "metadata": {},
   "outputs": [
    {
     "data": {
      "text/plain": [
       "10×10000 Array{Int64,2}:\n",
       "  0  94   0   0   2  16   0   1   0  …   0  98  33  34   0   0   2   0    0\n",
       "  0   0  99   0   0   0   0   0   0      0   0   0  38   0   0  49  11    0\n",
       "  0   0   0   0   0   0   1   0   0      2   0   0   0   4   0  49   0    0\n",
       "  0   0   0   0  97  10   0   0   0      0   0  67   0   2   0   0   0    0\n",
       "  3   5   0  18   0   0   0   0   2      0   2   0   0  91   0   0  61    0\n",
       "  0   1   0  82   0  52   0   0   0  …   0   0   0   0   3  98   0   0    0\n",
       " 93   0   0   0   1   0   3   0   0      0   0   0   0   0   2   0  23  100\n",
       "  4   0   0   0   0  22   0   0  98     97   0   0   0   0   0   0   0    0\n",
       "  0   0   0   0   0   0  76  99   0      0   0   0   0   0   0   0   0    0\n",
       "  0   0   1   0   0   0  20   0   0      1   0   0  28   0   0   0   5    0"
      ]
     },
     "execution_count": 4,
     "metadata": {},
     "output_type": "execute_result"
    }
   ],
   "source": [
    "K = 10\n",
    "p = ones(K) ./ K\n",
    "T = 0.5\n",
    "Xk = draw_dirichlet_multinomial(100, p, T, 10000)"
   ]
  },
  {
   "cell_type": "code",
   "execution_count": 5,
   "metadata": {},
   "outputs": [
    {
     "data": {
      "text/plain": [
       "DirichletMultinomial{Float64}(\n",
       "n: 100\n",
       "α: [0.050107093001118964, 0.05122853088080749, 0.05179882135312586, 0.04881208118003468, 0.04998580720130787, 0.05075853502761984, 0.05021365237945029, 0.05106548571841099, 0.04862938152857411, 0.05010689722843019]\n",
       ")\n"
      ]
     },
     "execution_count": 5,
     "metadata": {},
     "output_type": "execute_result"
    }
   ],
   "source": [
    "Polya.mle(DirichletMultinomial, Xk)"
   ]
  },
  {
   "cell_type": "code",
   "execution_count": 6,
   "metadata": {},
   "outputs": [
    {
     "data": {
      "text/plain": [
       "compute_KLD (generic function with 1 method)"
      ]
     },
     "execution_count": 6,
     "metadata": {},
     "output_type": "execute_result"
    }
   ],
   "source": [
    "function compute_KLD(share::Array{Float64,N}, p::Vector{Float64}) where {N}\n",
    "    all(sum(share, dims=1) .≈ 1) || throw(ArgumentError(\"Shares have to sum to 1.\")) \n",
    "    deviation = log.(share ./ p)\n",
    "    # log(0) is fine because 0*log(0) = 0\n",
    "    replace!(deviation, -Inf=>0)\n",
    "    # convert to vector instead of 1xK array\n",
    "    return sum(share .* deviation, dims=1)\n",
    "end"
   ]
  },
  {
   "cell_type": "code",
   "execution_count": null,
   "metadata": {},
   "outputs": [],
   "source": [
    "KLD = compute_KLD(Xk ./ sum(Xk, dims=1), p)\n",
    "histogram(KLD[:])"
   ]
  },
  {
   "cell_type": "code",
   "execution_count": 7,
   "metadata": {},
   "outputs": [
    {
     "data": {
      "text/plain": [
       "DiscreteNonParametric{Float64,Float64,Array{Float64,1},Array{Float64,1}}(\n",
       "support: [0.504, 0.527, 0.538, 0.567, 0.58, 0.593, 0.595, 0.598, 0.612, 0.616  …  1.692, 1.715, 1.74, 1.784, 1.802, 1.88, 1.908, 1.978, 2.104, 2.303]\n",
       "p: [1.000010000100001e-5, 1.000010000100001e-5, 1.000010000100001e-5, 2.000020000200002e-5, 1.000010000100001e-5, 2.000020000200002e-5, 1.000010000100001e-5, 1.000010000100001e-5, 1.000010000100001e-5, 1.000010000100001e-5  …  0.027770277702777027, 0.002830028300283003, 0.03144031440314403, 0.025700257002570025, 0.03602036020360204, 0.04524045240452405, 0.023210232102321024, 0.06221062210622106, 0.11226112261122612, 0.23854238542385423]\n",
       ")\n"
      ]
     },
     "execution_count": 7,
     "metadata": {},
     "output_type": "execute_result"
    }
   ],
   "source": [
    "P = DirichletMultinomial(20, T*p)\n",
    "pmf = Polya.simulate_ECDF(P, \n",
    "    x -> compute_KLD(x ./ sum(x, dims=1),\n",
    "        p), digits=3)"
   ]
  },
  {
   "cell_type": "code",
   "execution_count": 8,
   "metadata": {},
   "outputs": [
    {
     "data": {
      "image/svg+xml": [
       "<?xml version=\"1.0\" encoding=\"utf-8\"?>\n",
       "<svg xmlns=\"http://www.w3.org/2000/svg\" xmlns:xlink=\"http://www.w3.org/1999/xlink\" width=\"600\" height=\"400\" viewBox=\"0 0 2400 1600\">\n",
       "<defs>\n",
       "  <clipPath id=\"clip4600\">\n",
       "    <rect x=\"0\" y=\"0\" width=\"2400\" height=\"1600\"/>\n",
       "  </clipPath>\n",
       "</defs>\n",
       "<polygon clip-path=\"url(#clip4600)\" points=\"\n",
       "0,1600 2400,1600 2400,0 0,0 \n",
       "  \" fill=\"#ffffff\" fill-rule=\"evenodd\" fill-opacity=\"1\"/>\n",
       "<defs>\n",
       "  <clipPath id=\"clip4601\">\n",
       "    <rect x=\"480\" y=\"0\" width=\"1681\" height=\"1600\"/>\n",
       "  </clipPath>\n",
       "</defs>\n",
       "<polygon clip-path=\"url(#clip4600)\" points=\"\n",
       "180.66,1487.47 2352.76,1487.47 2352.76,47.2441 180.66,47.2441 \n",
       "  \" fill=\"#ffffff\" fill-rule=\"evenodd\" fill-opacity=\"1\"/>\n",
       "<defs>\n",
       "  <clipPath id=\"clip4602\">\n",
       "    <rect x=\"180\" y=\"47\" width=\"2173\" height=\"1441\"/>\n",
       "  </clipPath>\n",
       "</defs>\n",
       "<polyline clip-path=\"url(#clip4602)\" style=\"stroke:#000000; stroke-width:2; stroke-opacity:0.1; fill:none\" points=\"\n",
       "  237.579,1487.47 237.579,47.2441 \n",
       "  \"/>\n",
       "<polyline clip-path=\"url(#clip4602)\" style=\"stroke:#000000; stroke-width:2; stroke-opacity:0.1; fill:none\" points=\"\n",
       "  807.102,1487.47 807.102,47.2441 \n",
       "  \"/>\n",
       "<polyline clip-path=\"url(#clip4602)\" style=\"stroke:#000000; stroke-width:2; stroke-opacity:0.1; fill:none\" points=\"\n",
       "  1376.63,1487.47 1376.63,47.2441 \n",
       "  \"/>\n",
       "<polyline clip-path=\"url(#clip4602)\" style=\"stroke:#000000; stroke-width:2; stroke-opacity:0.1; fill:none\" points=\"\n",
       "  1946.15,1487.47 1946.15,47.2441 \n",
       "  \"/>\n",
       "<polyline clip-path=\"url(#clip4602)\" style=\"stroke:#000000; stroke-width:2; stroke-opacity:0.1; fill:none\" points=\"\n",
       "  180.66,1446.73 2352.76,1446.73 \n",
       "  \"/>\n",
       "<polyline clip-path=\"url(#clip4602)\" style=\"stroke:#000000; stroke-width:2; stroke-opacity:0.1; fill:none\" points=\"\n",
       "  180.66,1107.05 2352.76,1107.05 \n",
       "  \"/>\n",
       "<polyline clip-path=\"url(#clip4602)\" style=\"stroke:#000000; stroke-width:2; stroke-opacity:0.1; fill:none\" points=\"\n",
       "  180.66,767.366 2352.76,767.366 \n",
       "  \"/>\n",
       "<polyline clip-path=\"url(#clip4602)\" style=\"stroke:#000000; stroke-width:2; stroke-opacity:0.1; fill:none\" points=\"\n",
       "  180.66,427.686 2352.76,427.686 \n",
       "  \"/>\n",
       "<polyline clip-path=\"url(#clip4602)\" style=\"stroke:#000000; stroke-width:2; stroke-opacity:0.1; fill:none\" points=\"\n",
       "  180.66,88.0053 2352.76,88.0053 \n",
       "  \"/>\n",
       "<polyline clip-path=\"url(#clip4600)\" style=\"stroke:#000000; stroke-width:4; stroke-opacity:1; fill:none\" points=\"\n",
       "  180.66,1487.47 2352.76,1487.47 \n",
       "  \"/>\n",
       "<polyline clip-path=\"url(#clip4600)\" style=\"stroke:#000000; stroke-width:4; stroke-opacity:1; fill:none\" points=\"\n",
       "  180.66,1487.47 180.66,47.2441 \n",
       "  \"/>\n",
       "<polyline clip-path=\"url(#clip4600)\" style=\"stroke:#000000; stroke-width:4; stroke-opacity:1; fill:none\" points=\"\n",
       "  237.579,1487.47 237.579,1465.87 \n",
       "  \"/>\n",
       "<polyline clip-path=\"url(#clip4600)\" style=\"stroke:#000000; stroke-width:4; stroke-opacity:1; fill:none\" points=\"\n",
       "  807.102,1487.47 807.102,1465.87 \n",
       "  \"/>\n",
       "<polyline clip-path=\"url(#clip4600)\" style=\"stroke:#000000; stroke-width:4; stroke-opacity:1; fill:none\" points=\"\n",
       "  1376.63,1487.47 1376.63,1465.87 \n",
       "  \"/>\n",
       "<polyline clip-path=\"url(#clip4600)\" style=\"stroke:#000000; stroke-width:4; stroke-opacity:1; fill:none\" points=\"\n",
       "  1946.15,1487.47 1946.15,1465.87 \n",
       "  \"/>\n",
       "<polyline clip-path=\"url(#clip4600)\" style=\"stroke:#000000; stroke-width:4; stroke-opacity:1; fill:none\" points=\"\n",
       "  180.66,1446.73 213.242,1446.73 \n",
       "  \"/>\n",
       "<polyline clip-path=\"url(#clip4600)\" style=\"stroke:#000000; stroke-width:4; stroke-opacity:1; fill:none\" points=\"\n",
       "  180.66,1107.05 213.242,1107.05 \n",
       "  \"/>\n",
       "<polyline clip-path=\"url(#clip4600)\" style=\"stroke:#000000; stroke-width:4; stroke-opacity:1; fill:none\" points=\"\n",
       "  180.66,767.366 213.242,767.366 \n",
       "  \"/>\n",
       "<polyline clip-path=\"url(#clip4600)\" style=\"stroke:#000000; stroke-width:4; stroke-opacity:1; fill:none\" points=\"\n",
       "  180.66,427.686 213.242,427.686 \n",
       "  \"/>\n",
       "<polyline clip-path=\"url(#clip4600)\" style=\"stroke:#000000; stroke-width:4; stroke-opacity:1; fill:none\" points=\"\n",
       "  180.66,88.0053 213.242,88.0053 \n",
       "  \"/>\n",
       "<g clip-path=\"url(#clip4600)\">\n",
       "<text style=\"fill:#000000; fill-opacity:1; font-family:Arial,Helvetica Neue,Helvetica,sans-serif; font-size:48px; text-anchor:middle;\" transform=\"rotate(0, 237.579, 1541.47)\" x=\"237.579\" y=\"1541.47\">0.5</text>\n",
       "</g>\n",
       "<g clip-path=\"url(#clip4600)\">\n",
       "<text style=\"fill:#000000; fill-opacity:1; font-family:Arial,Helvetica Neue,Helvetica,sans-serif; font-size:48px; text-anchor:middle;\" transform=\"rotate(0, 807.102, 1541.47)\" x=\"807.102\" y=\"1541.47\">1.0</text>\n",
       "</g>\n",
       "<g clip-path=\"url(#clip4600)\">\n",
       "<text style=\"fill:#000000; fill-opacity:1; font-family:Arial,Helvetica Neue,Helvetica,sans-serif; font-size:48px; text-anchor:middle;\" transform=\"rotate(0, 1376.63, 1541.47)\" x=\"1376.63\" y=\"1541.47\">1.5</text>\n",
       "</g>\n",
       "<g clip-path=\"url(#clip4600)\">\n",
       "<text style=\"fill:#000000; fill-opacity:1; font-family:Arial,Helvetica Neue,Helvetica,sans-serif; font-size:48px; text-anchor:middle;\" transform=\"rotate(0, 1946.15, 1541.47)\" x=\"1946.15\" y=\"1541.47\">2.0</text>\n",
       "</g>\n",
       "<g clip-path=\"url(#clip4600)\">\n",
       "<text style=\"fill:#000000; fill-opacity:1; font-family:Arial,Helvetica Neue,Helvetica,sans-serif; font-size:48px; text-anchor:end;\" transform=\"rotate(0, 156.66, 1464.23)\" x=\"156.66\" y=\"1464.23\">0.00</text>\n",
       "</g>\n",
       "<g clip-path=\"url(#clip4600)\">\n",
       "<text style=\"fill:#000000; fill-opacity:1; font-family:Arial,Helvetica Neue,Helvetica,sans-serif; font-size:48px; text-anchor:end;\" transform=\"rotate(0, 156.66, 1124.55)\" x=\"156.66\" y=\"1124.55\">0.25</text>\n",
       "</g>\n",
       "<g clip-path=\"url(#clip4600)\">\n",
       "<text style=\"fill:#000000; fill-opacity:1; font-family:Arial,Helvetica Neue,Helvetica,sans-serif; font-size:48px; text-anchor:end;\" transform=\"rotate(0, 156.66, 784.866)\" x=\"156.66\" y=\"784.866\">0.50</text>\n",
       "</g>\n",
       "<g clip-path=\"url(#clip4600)\">\n",
       "<text style=\"fill:#000000; fill-opacity:1; font-family:Arial,Helvetica Neue,Helvetica,sans-serif; font-size:48px; text-anchor:end;\" transform=\"rotate(0, 156.66, 445.186)\" x=\"156.66\" y=\"445.186\">0.75</text>\n",
       "</g>\n",
       "<g clip-path=\"url(#clip4600)\">\n",
       "<text style=\"fill:#000000; fill-opacity:1; font-family:Arial,Helvetica Neue,Helvetica,sans-serif; font-size:48px; text-anchor:end;\" transform=\"rotate(0, 156.66, 105.505)\" x=\"156.66\" y=\"105.505\">1.00</text>\n",
       "</g>\n",
       "<polyline clip-path=\"url(#clip4602)\" style=\"stroke:#009af9; stroke-width:4; stroke-opacity:1; fill:none\" points=\"\n",
       "  242.135,1446.71 268.333,1446.7 280.862,1446.69 313.895,1446.66 328.702,1446.65 343.51,1446.62 345.788,1446.6 349.205,1446.59 365.152,1446.58 369.708,1446.56 \n",
       "  373.125,1446.55 377.681,1446.52 389.072,1446.5 394.767,1446.48 403.879,1446.46 411.853,1446.44 418.687,1446.43 423.243,1446.37 424.382,1446.33 428.939,1446.31 \n",
       "  438.051,1446.25 443.746,1446.22 448.302,1446.2 452.859,1446.1 453.998,1446.09 458.554,1445.97 467.666,1445.95 472.222,1445.93 473.361,1445.9 477.918,1445.88 \n",
       "  485.891,1445.82 487.03,1445.72 488.169,1445.68 497.281,1445.54 505.255,1445.45 507.533,1445.34 508.672,1445.33 512.089,1445.3 516.645,1445.26 520.062,1445.16 \n",
       "  521.201,1445.15 531.453,1444.99 533.731,1444.84 536.009,1444.8 538.287,1444.74 550.817,1444.62 553.095,1444.53 557.651,1444.42 561.068,1444.38 565.624,1444.34 \n",
       "  566.763,1444.17 567.902,1444.16 569.041,1444.1 577.015,1444.04 580.432,1443.83 582.71,1443.79 586.127,1443.67 587.266,1443.62 588.405,1443.59 595.24,1443.4 \n",
       "  596.379,1443.13 599.796,1443.1 602.074,1443.03 606.63,1442.91 612.325,1442.77 614.603,1442.76 615.742,1442.26 616.881,1442.24 618.02,1442.23 621.438,1442.15 \n",
       "  625.994,1442.13 629.411,1441.88 636.245,1441.84 640.801,1441.62 641.94,1441.41 644.219,1441.4 645.358,1441.1 646.497,1441.06 647.636,1441.03 649.914,1440.88 \n",
       "  651.053,1440.82 660.165,1440.56 661.304,1440.14 663.582,1440.04 665.86,1439.85 667,1439.84 674.973,1439.76 679.529,1439.32 680.668,1439.27 693.198,1439.21 \n",
       "  695.476,1439 696.615,1438.67 700.032,1438.59 704.588,1438.15 711.422,1438.11 714.84,1437.72 722.813,1437.18 725.091,1436.73 726.23,1436.63 727.369,1436.59 \n",
       "  729.647,1436.16 734.203,1435.94 742.177,1435.63 744.455,1435.19 745.594,1435.03 749.011,1434.44 753.567,1433.91 755.845,1433.87 758.123,1433.32 759.262,1433 \n",
       "  769.514,1432 772.931,1431.48 775.209,1431.12 778.626,1430.82 787.739,1429.58 788.878,1429.08 794.573,1428.93 802.546,1428.89 803.685,1427.76 804.824,1427.23 \n",
       "  805.963,1426.54 813.937,1425.98 821.91,1425.19 824.188,1424.59 825.327,1423.98 833.3,1422.66 835.579,1421.67 838.996,1421.24 843.552,1421.18 852.664,1420.86 \n",
       "  854.942,1420.46 858.36,1419.08 859.499,1418.61 868.611,1417.15 878.862,1416.41 881.14,1415.26 883.419,1413.67 884.558,1413.15 887.975,1412.2 892.531,1412.11 \n",
       "  897.087,1410.42 900.504,1409.76 915.312,1407.96 917.59,1405.23 921.007,1404.05 922.146,1403.59 931.259,1403.08 932.398,1401.11 935.815,1401.05 938.093,1399.97 \n",
       "  943.788,1399.71 951.761,1399.16 959.735,1398.29 960.874,1397 963.152,1395.19 964.291,1392.84 965.43,1392.39 967.708,1389.9 971.125,1389.23 989.35,1386.6 \n",
       "  992.767,1386.29 997.323,1385.05 1012.13,1383.59 1014.41,1383.37 1026.94,1380.31 1031.49,1376.11 1034.91,1375.79 1042.89,1373.23 1044.02,1372.42 1045.16,1368.71 \n",
       "  1050.86,1365.22 1059.97,1360.18 1062.25,1360.13 1072.5,1356.68 1074.78,1351.47 1080.47,1347.8 1089.59,1345.46 1093,1345.04 1096.42,1339.06 1106.67,1336.44 \n",
       "  1113.51,1332.47 1118.06,1326.98 1122.62,1325.23 1130.59,1323.75 1137.43,1321.17 1139.7,1314.69 1140.84,1314.09 1153.37,1305.45 1154.51,1299.67 1156.79,1296.61 \n",
       "  1170.46,1296.14 1172.74,1291.74 1180.71,1285.2 1188.68,1281.82 1192.1,1281.8 1208.05,1278.03 1210.33,1273.91 1216.02,1265.57 1219.44,1264.97 1222.85,1257.74 \n",
       "  1235.38,1245.43 1249.05,1239.87 1268.42,1230.69 1270.69,1230.01 1280.95,1221.37 1298.03,1217.36 1315.12,1206.91 1316.26,1192.37 1327.65,1177.71 1350.43,1174.31 \n",
       "  1352.71,1159.3 1358.4,1153.68 1377.77,1142.28 1380.04,1137.15 1390.29,1120.59 1405.1,1120.3 1441.55,1102.03 1458.64,1087.31 1483.7,1081.25 1500.78,1065.23 \n",
       "  1506.48,1033.86 1507.62,1013.11 1524.7,980.137 1553.18,946.033 1563.43,936.305 1593.05,910.339 1595.32,872.607 1621.52,868.762 1650,826.043 1700.12,791.124 \n",
       "  1720.62,742.182 1809.46,680.713 1841.36,649.177 1921.09,564.65 2064.61,412.118 2291.28,88.0053 \n",
       "  \"/>\n",
       "<polygon clip-path=\"url(#clip4600)\" points=\"\n",
       "1989.93,251.724 2280.76,251.724 2280.76,130.764 1989.93,130.764 \n",
       "  \" fill=\"#ffffff\" fill-rule=\"evenodd\" fill-opacity=\"1\"/>\n",
       "<polyline clip-path=\"url(#clip4600)\" style=\"stroke:#000000; stroke-width:4; stroke-opacity:1; fill:none\" points=\"\n",
       "  1989.93,251.724 2280.76,251.724 2280.76,130.764 1989.93,130.764 1989.93,251.724 \n",
       "  \"/>\n",
       "<polyline clip-path=\"url(#clip4600)\" style=\"stroke:#009af9; stroke-width:4; stroke-opacity:1; fill:none\" points=\"\n",
       "  2013.93,191.244 2157.93,191.244 \n",
       "  \"/>\n",
       "<g clip-path=\"url(#clip4600)\">\n",
       "<text style=\"fill:#000000; fill-opacity:1; font-family:Arial,Helvetica Neue,Helvetica,sans-serif; font-size:48px; text-anchor:start;\" transform=\"rotate(0, 2181.93, 208.744)\" x=\"2181.93\" y=\"208.744\">y1</text>\n",
       "</g>\n",
       "</svg>\n"
      ]
     },
     "execution_count": 8,
     "metadata": {},
     "output_type": "execute_result"
    }
   ],
   "source": [
    "x = support(pmf)\n",
    "p = cumsum(probs(pmf))\n",
    "plot(x, p)"
   ]
  },
  {
   "cell_type": "code",
   "execution_count": 9,
   "metadata": {},
   "outputs": [
    {
     "data": {
      "text/plain": [
       "0.7614576145761457"
      ]
     },
     "execution_count": 9,
     "metadata": {},
     "output_type": "execute_result"
    }
   ],
   "source": [
    "cdf(pmf, 2.2)"
   ]
  },
  {
   "cell_type": "code",
   "execution_count": 10,
   "metadata": {},
   "outputs": [
    {
     "data": {
      "text/plain": [
       "1.8207186771867718"
      ]
     },
     "execution_count": 10,
     "metadata": {},
     "output_type": "execute_result"
    }
   ],
   "source": [
    "mean(pmf)"
   ]
  },
  {
   "cell_type": "code",
   "execution_count": 23,
   "metadata": {},
   "outputs": [
    {
     "data": {
      "text/plain": [
       "compute_p_values (generic function with 1 method)"
      ]
     },
     "execution_count": 23,
     "metadata": {},
     "output_type": "execute_result"
    }
   ],
   "source": [
    "function compute_p_values(data)\n",
    "    K, N = size(data)\n",
    "    H0_params = Polya.mle(DirichletMultinomial, data, tol=1e-4)\n",
    "    H0_shares = H0_params.α ./ sum(H0_params.α)\n",
    "    actual_KLD = compute_KLD(data ./ sum(data, dims=1), H0_shares)\n",
    "    \n",
    "    p = zeros(Float64, N)\n",
    "    for i = 1:N\n",
    "        # actual number of shipments treated as a parameter\n",
    "        H1 = DirichletMultinomial(sum(data[:,i]), H0_params.α)\n",
    "        pmf = Polya.simulate_ECDF(H1, \n",
    "            x -> compute_KLD(x ./ sum(x, dims=1), \n",
    "                    H0_params.α ./ H0_params.α0), \n",
    "            maxiter=1000, digits=2)\n",
    "        p[i] = 1 - cdf(pmf, actual_KLD[1,i])\n",
    "    end\n",
    "    return p\n",
    "end"
   ]
  },
  {
   "cell_type": "code",
   "execution_count": 12,
   "metadata": {},
   "outputs": [
    {
     "data": {
      "text/plain": [
       "([0.33633633633633675, 0.2862862862862866, 0.14814814814814836, 0.47947947947947955, 0.2142142142142145, 0.953953953953954, 0.5995995995995995, 0.10010010010010029, 0.17617617617617642, 0.9139139139139139  …  0.05305305305305341, 0.2402402402402406, 0.17617617617617642, 0.5505505505505506, 0.9339339339339339, 0.40740740740740744, 0.17317317317317327, 0.7217217217217218, 0.887887887887888, 0.0490490490490495], [1.7818118118118118, 1.7685285285285286, 1.762272272272272, 1.7889389389389387, 1.7842542542542543, 1.767947947947948, 1.7804804804804801, 1.7727527527527533, 1.7637137137137135, 1.7895095095095095  …  1.7854554554554554, 1.7665765765765766, 1.7906106106106099, 1.7592392392392393, 1.805935935935936, 1.7721821821821824, 1.7694994994994995, 1.7577177177177181, 1.7731431431431433, 1.7901701701701698], [2.001763835195923, 2.0518330653362855, 2.227973957891386, 1.824286463879449, 2.177404615971631, 1.1009655501196554, 1.6464628649388853, 2.279465347090891, 2.189321130365325, 1.2701339783610113  …  2.3058443083129254, 2.1329993970143035, 2.2078528502689623, 1.6892230580838308, 1.2065162285427502, 1.9088067322738287, 2.1951029627847145, 1.5014357939211247, 1.2722471589966107, 2.3037442599374733])"
      ]
     },
     "execution_count": 12,
     "metadata": {},
     "output_type": "execute_result"
    }
   ],
   "source": [
    "compute_p_values(Xk)"
   ]
  },
  {
   "cell_type": "code",
   "execution_count": 31,
   "metadata": {},
   "outputs": [
    {
     "data": {
      "text/plain": [
       "\"So as not to make notebook big.\""
      ]
     },
     "execution_count": 31,
     "metadata": {},
     "output_type": "execute_result"
    }
   ],
   "source": [
    "using CSVFiles\n",
    "data = load(\"../temp/shipment-clean.csv\")\n",
    "\"So as not to make notebook big.\""
   ]
  },
  {
   "cell_type": "code",
   "execution_count": 16,
   "metadata": {},
   "outputs": [
    {
     "data": {
      "text/plain": [
       "get_destination_matrix (generic function with 1 method)"
      ]
     },
     "execution_count": 16,
     "metadata": {},
     "output_type": "execute_result"
    }
   ],
   "source": [
    "function get_destination_matrix(data; country::String, year::Int = 2017)\n",
    "    cut = 3\n",
    "    output = zeros(Int, (97, 0))\n",
    "    for row in collect(data)\n",
    "        fields = keys(row)[cut+1:end]\n",
    "        if row.iso2_d == country && row.year == year\n",
    "            output = [output zeros(Int, (length(fields), 1))]\n",
    "            for (i, field) in enumerate(fields)\n",
    "                output[i,end] = row[field]\n",
    "            end\n",
    "        end\n",
    "    end\n",
    "    return output\n",
    "end"
   ]
  },
  {
   "cell_type": "code",
   "execution_count": 34,
   "metadata": {},
   "outputs": [],
   "source": [
    "countries = [\"RU\", \"US\"]\n",
    "ps = zeros(Float64, length(countries), 28)\n",
    "for (i, country) in enumerate(countries) \n",
    "    segment = get_destination_matrix(data, country=country, year=2017)\n",
    "    ps[i,:] = compute_p_values(segment[1:end-1,:])\n",
    "end\n"
   ]
  },
  {
   "cell_type": "code",
   "execution_count": 35,
   "metadata": {},
   "outputs": [
    {
     "data": {
      "text/plain": [
       "2×28 Array{Float64,2}:\n",
       " 0.022022  0.0       0.167167  0.0       …  0.977978  0.001001  0.174174\n",
       " 0.479479  0.004004  0.487487  0.317317     0.716717  0.132132  0.0"
      ]
     },
     "execution_count": 35,
     "metadata": {},
     "output_type": "execute_result"
    }
   ],
   "source": [
    "ps"
   ]
  },
  {
   "cell_type": "code",
   "execution_count": null,
   "metadata": {},
   "outputs": [],
   "source": []
  }
 ],
 "metadata": {
  "kernelspec": {
   "display_name": "Julia 1.4.2",
   "language": "julia",
   "name": "julia-1.4"
  },
  "language_info": {
   "file_extension": ".jl",
   "mimetype": "application/julia",
   "name": "julia",
   "version": "1.4.2"
  }
 },
 "nbformat": 4,
 "nbformat_minor": 4
}
